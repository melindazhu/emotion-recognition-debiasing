{
  "cells": [
    {
      "cell_type": "markdown",
      "metadata": {
        "id": "PgkGLtwZgAvG"
      },
      "source": [
        "## Baseline Face Emotion Classifier"
      ]
    },
    {
      "cell_type": "markdown",
      "metadata": {
        "id": "FKPsiL6HgvV6"
      },
      "source": [
        "### Preprocessing"
      ]
    },
    {
      "cell_type": "code",
      "execution_count": null,
      "metadata": {
        "colab": {
          "base_uri": "https://localhost:8080/"
        },
        "collapsed": true,
        "id": "2UKM674gfQ5b",
        "outputId": "2066e37b-6ffa-49e4-f2e8-1993f3130a0c"
      },
      "outputs": [
        {
          "name": "stdout",
          "output_type": "stream",
          "text": [
            "Requirement already satisfied: torch in /usr/local/lib/python3.11/dist-packages (2.6.0+cu124)\n",
            "Requirement already satisfied: torchvision in /usr/local/lib/python3.11/dist-packages (0.21.0+cu124)\n",
            "Requirement already satisfied: numpy in /usr/local/lib/python3.11/dist-packages (2.0.2)\n",
            "Requirement already satisfied: matplotlib in /usr/local/lib/python3.11/dist-packages (3.10.0)\n",
            "Requirement already satisfied: seaborn in /usr/local/lib/python3.11/dist-packages (0.13.2)\n",
            "Requirement already satisfied: scikit-learn in /usr/local/lib/python3.11/dist-packages (1.6.1)\n",
            "Collecting facenet-pytorch\n",
            "  Downloading facenet_pytorch-2.6.0-py3-none-any.whl.metadata (12 kB)\n",
            "Requirement already satisfied: filelock in /usr/local/lib/python3.11/dist-packages (from torch) (3.18.0)\n",
            "Requirement already satisfied: typing-extensions>=4.10.0 in /usr/local/lib/python3.11/dist-packages (from torch) (4.12.2)\n",
            "Requirement already satisfied: networkx in /usr/local/lib/python3.11/dist-packages (from torch) (3.4.2)\n",
            "Requirement already satisfied: jinja2 in /usr/local/lib/python3.11/dist-packages (from torch) (3.1.6)\n",
            "Requirement already satisfied: fsspec in /usr/local/lib/python3.11/dist-packages (from torch) (2025.3.0)\n",
            "Collecting nvidia-cuda-nvrtc-cu12==12.4.127 (from torch)\n",
            "  Downloading nvidia_cuda_nvrtc_cu12-12.4.127-py3-none-manylinux2014_x86_64.whl.metadata (1.5 kB)\n",
            "Collecting nvidia-cuda-runtime-cu12==12.4.127 (from torch)\n",
            "  Downloading nvidia_cuda_runtime_cu12-12.4.127-py3-none-manylinux2014_x86_64.whl.metadata (1.5 kB)\n",
            "Collecting nvidia-cuda-cupti-cu12==12.4.127 (from torch)\n",
            "  Downloading nvidia_cuda_cupti_cu12-12.4.127-py3-none-manylinux2014_x86_64.whl.metadata (1.6 kB)\n",
            "Collecting nvidia-cudnn-cu12==9.1.0.70 (from torch)\n",
            "  Downloading nvidia_cudnn_cu12-9.1.0.70-py3-none-manylinux2014_x86_64.whl.metadata (1.6 kB)\n",
            "Collecting nvidia-cublas-cu12==12.4.5.8 (from torch)\n",
            "  Downloading nvidia_cublas_cu12-12.4.5.8-py3-none-manylinux2014_x86_64.whl.metadata (1.5 kB)\n",
            "Collecting nvidia-cufft-cu12==11.2.1.3 (from torch)\n",
            "  Downloading nvidia_cufft_cu12-11.2.1.3-py3-none-manylinux2014_x86_64.whl.metadata (1.5 kB)\n",
            "Collecting nvidia-curand-cu12==10.3.5.147 (from torch)\n",
            "  Downloading nvidia_curand_cu12-10.3.5.147-py3-none-manylinux2014_x86_64.whl.metadata (1.5 kB)\n",
            "Collecting nvidia-cusolver-cu12==11.6.1.9 (from torch)\n",
            "  Downloading nvidia_cusolver_cu12-11.6.1.9-py3-none-manylinux2014_x86_64.whl.metadata (1.6 kB)\n",
            "Collecting nvidia-cusparse-cu12==12.3.1.170 (from torch)\n",
            "  Downloading nvidia_cusparse_cu12-12.3.1.170-py3-none-manylinux2014_x86_64.whl.metadata (1.6 kB)\n",
            "Requirement already satisfied: nvidia-cusparselt-cu12==0.6.2 in /usr/local/lib/python3.11/dist-packages (from torch) (0.6.2)\n",
            "Requirement already satisfied: nvidia-nccl-cu12==2.21.5 in /usr/local/lib/python3.11/dist-packages (from torch) (2.21.5)\n",
            "Requirement already satisfied: nvidia-nvtx-cu12==12.4.127 in /usr/local/lib/python3.11/dist-packages (from torch) (12.4.127)\n",
            "Collecting nvidia-nvjitlink-cu12==12.4.127 (from torch)\n",
            "  Downloading nvidia_nvjitlink_cu12-12.4.127-py3-none-manylinux2014_x86_64.whl.metadata (1.5 kB)\n",
            "Requirement already satisfied: triton==3.2.0 in /usr/local/lib/python3.11/dist-packages (from torch) (3.2.0)\n",
            "Requirement already satisfied: sympy==1.13.1 in /usr/local/lib/python3.11/dist-packages (from torch) (1.13.1)\n",
            "Requirement already satisfied: mpmath<1.4,>=1.1.0 in /usr/local/lib/python3.11/dist-packages (from sympy==1.13.1->torch) (1.3.0)\n",
            "Requirement already satisfied: pillow!=8.3.*,>=5.3.0 in /usr/local/lib/python3.11/dist-packages (from torchvision) (11.1.0)\n",
            "Requirement already satisfied: contourpy>=1.0.1 in /usr/local/lib/python3.11/dist-packages (from matplotlib) (1.3.1)\n",
            "Requirement already satisfied: cycler>=0.10 in /usr/local/lib/python3.11/dist-packages (from matplotlib) (0.12.1)\n",
            "Requirement already satisfied: fonttools>=4.22.0 in /usr/local/lib/python3.11/dist-packages (from matplotlib) (4.56.0)\n",
            "Requirement already satisfied: kiwisolver>=1.3.1 in /usr/local/lib/python3.11/dist-packages (from matplotlib) (1.4.8)\n",
            "Requirement already satisfied: packaging>=20.0 in /usr/local/lib/python3.11/dist-packages (from matplotlib) (24.2)\n",
            "Requirement already satisfied: pyparsing>=2.3.1 in /usr/local/lib/python3.11/dist-packages (from matplotlib) (3.2.1)\n",
            "Requirement already satisfied: python-dateutil>=2.7 in /usr/local/lib/python3.11/dist-packages (from matplotlib) (2.8.2)\n",
            "Requirement already satisfied: pandas>=1.2 in /usr/local/lib/python3.11/dist-packages (from seaborn) (2.2.2)\n",
            "Requirement already satisfied: scipy>=1.6.0 in /usr/local/lib/python3.11/dist-packages (from scikit-learn) (1.14.1)\n",
            "Requirement already satisfied: joblib>=1.2.0 in /usr/local/lib/python3.11/dist-packages (from scikit-learn) (1.4.2)\n",
            "Requirement already satisfied: threadpoolctl>=3.1.0 in /usr/local/lib/python3.11/dist-packages (from scikit-learn) (3.6.0)\n",
            "Collecting numpy\n",
            "  Downloading numpy-1.26.4-cp311-cp311-manylinux_2_17_x86_64.manylinux2014_x86_64.whl.metadata (61 kB)\n",
            "\u001b[2K     \u001b[90m━━━━━━━━━━━━━━━━━━━━━━━━━━━━━━━━━━━━━━━━\u001b[0m \u001b[32m61.0/61.0 kB\u001b[0m \u001b[31m1.4 MB/s\u001b[0m eta \u001b[36m0:00:00\u001b[0m\n",
            "\u001b[?25hCollecting pillow!=8.3.*,>=5.3.0 (from torchvision)\n",
            "  Downloading pillow-10.2.0-cp311-cp311-manylinux_2_28_x86_64.whl.metadata (9.7 kB)\n",
            "Requirement already satisfied: requests<3.0.0,>=2.0.0 in /usr/local/lib/python3.11/dist-packages (from facenet-pytorch) (2.32.3)\n",
            "INFO: pip is looking at multiple versions of facenet-pytorch to determine which version is compatible with other requirements. This could take a while.\n",
            "Collecting facenet-pytorch\n",
            "  Downloading facenet_pytorch-2.5.3-py3-none-any.whl.metadata (13 kB)\n",
            "Requirement already satisfied: pytz>=2020.1 in /usr/local/lib/python3.11/dist-packages (from pandas>=1.2->seaborn) (2025.1)\n",
            "Requirement already satisfied: tzdata>=2022.7 in /usr/local/lib/python3.11/dist-packages (from pandas>=1.2->seaborn) (2025.1)\n",
            "Requirement already satisfied: six>=1.5 in /usr/local/lib/python3.11/dist-packages (from python-dateutil>=2.7->matplotlib) (1.17.0)\n",
            "Requirement already satisfied: MarkupSafe>=2.0 in /usr/local/lib/python3.11/dist-packages (from jinja2->torch) (3.0.2)\n",
            "Requirement already satisfied: charset-normalizer<4,>=2 in /usr/local/lib/python3.11/dist-packages (from requests<3.0.0,>=2.0.0->facenet-pytorch) (3.4.1)\n",
            "Requirement already satisfied: idna<4,>=2.5 in /usr/local/lib/python3.11/dist-packages (from requests<3.0.0,>=2.0.0->facenet-pytorch) (3.10)\n",
            "Requirement already satisfied: urllib3<3,>=1.21.1 in /usr/local/lib/python3.11/dist-packages (from requests<3.0.0,>=2.0.0->facenet-pytorch) (2.3.0)\n",
            "Requirement already satisfied: certifi>=2017.4.17 in /usr/local/lib/python3.11/dist-packages (from requests<3.0.0,>=2.0.0->facenet-pytorch) (2025.1.31)\n",
            "Downloading nvidia_cublas_cu12-12.4.5.8-py3-none-manylinux2014_x86_64.whl (363.4 MB)\n",
            "\u001b[2K   \u001b[90m━━━━━━━━━━━━━━━━━━━━━━━━━━━━━━━━━━━━━━━━\u001b[0m \u001b[32m363.4/363.4 MB\u001b[0m \u001b[31m3.3 MB/s\u001b[0m eta \u001b[36m0:00:00\u001b[0m\n",
            "\u001b[?25hDownloading nvidia_cuda_cupti_cu12-12.4.127-py3-none-manylinux2014_x86_64.whl (13.8 MB)\n",
            "\u001b[2K   \u001b[90m━━━━━━━━━━━━━━━━━━━━━━━━━━━━━━━━━━━━━━━━\u001b[0m \u001b[32m13.8/13.8 MB\u001b[0m \u001b[31m56.7 MB/s\u001b[0m eta \u001b[36m0:00:00\u001b[0m\n",
            "\u001b[?25hDownloading nvidia_cuda_nvrtc_cu12-12.4.127-py3-none-manylinux2014_x86_64.whl (24.6 MB)\n",
            "\u001b[2K   \u001b[90m━━━━━━━━━━━━━━━━━━━━━━━━━━━━━━━━━━━━━━━━\u001b[0m \u001b[32m24.6/24.6 MB\u001b[0m \u001b[31m26.2 MB/s\u001b[0m eta \u001b[36m0:00:00\u001b[0m\n",
            "\u001b[?25hDownloading nvidia_cuda_runtime_cu12-12.4.127-py3-none-manylinux2014_x86_64.whl (883 kB)\n",
            "\u001b[2K   \u001b[90m━━━━━━━━━━━━━━━━━━━━━━━━━━━━━━━━━━━━━━━━\u001b[0m \u001b[32m883.7/883.7 kB\u001b[0m \u001b[31m25.6 MB/s\u001b[0m eta \u001b[36m0:00:00\u001b[0m\n",
            "\u001b[?25hDownloading nvidia_cudnn_cu12-9.1.0.70-py3-none-manylinux2014_x86_64.whl (664.8 MB)\n",
            "\u001b[2K   \u001b[90m━━━━━━━━━━━━━━━━━━━━━━━━━━━━━━━━━━━━━━━━\u001b[0m \u001b[32m664.8/664.8 MB\u001b[0m \u001b[31m1.5 MB/s\u001b[0m eta \u001b[36m0:00:00\u001b[0m\n",
            "\u001b[?25hDownloading nvidia_cufft_cu12-11.2.1.3-py3-none-manylinux2014_x86_64.whl (211.5 MB)\n",
            "\u001b[2K   \u001b[90m━━━━━━━━━━━━━━━━━━━━━━━━━━━━━━━━━━━━━━━━\u001b[0m \u001b[32m211.5/211.5 MB\u001b[0m \u001b[31m5.5 MB/s\u001b[0m eta \u001b[36m0:00:00\u001b[0m\n",
            "\u001b[?25hDownloading nvidia_curand_cu12-10.3.5.147-py3-none-manylinux2014_x86_64.whl (56.3 MB)\n",
            "\u001b[2K   \u001b[90m━━━━━━━━━━━━━━━━━━━━━━━━━━━━━━━━━━━━━━━━\u001b[0m \u001b[32m56.3/56.3 MB\u001b[0m \u001b[31m10.0 MB/s\u001b[0m eta \u001b[36m0:00:00\u001b[0m\n",
            "\u001b[?25hDownloading nvidia_cusolver_cu12-11.6.1.9-py3-none-manylinux2014_x86_64.whl (127.9 MB)\n",
            "\u001b[2K   \u001b[90m━━━━━━━━━━━━━━━━━━━━━━━━━━━━━━━━━━━━━━━━\u001b[0m \u001b[32m127.9/127.9 MB\u001b[0m \u001b[31m7.3 MB/s\u001b[0m eta \u001b[36m0:00:00\u001b[0m\n",
            "\u001b[?25hDownloading nvidia_cusparse_cu12-12.3.1.170-py3-none-manylinux2014_x86_64.whl (207.5 MB)\n",
            "\u001b[2K   \u001b[90m━━━━━━━━━━━━━━━━━━━━━━━━━━━━━━━━━━━━━━━━\u001b[0m \u001b[32m207.5/207.5 MB\u001b[0m \u001b[31m6.5 MB/s\u001b[0m eta \u001b[36m0:00:00\u001b[0m\n",
            "\u001b[?25hDownloading nvidia_nvjitlink_cu12-12.4.127-py3-none-manylinux2014_x86_64.whl (21.1 MB)\n",
            "\u001b[2K   \u001b[90m━━━━━━━━━━━━━━━━━━━━━━━━━━━━━━━━━━━━━━━━\u001b[0m \u001b[32m21.1/21.1 MB\u001b[0m \u001b[31m65.6 MB/s\u001b[0m eta \u001b[36m0:00:00\u001b[0m\n",
            "\u001b[?25hDownloading facenet_pytorch-2.5.3-py3-none-any.whl (1.9 MB)\n",
            "\u001b[2K   \u001b[90m━━━━━━━━━━━━━━━━━━━━━━━━━━━━━━━━━━━━━━━━\u001b[0m \u001b[32m1.9/1.9 MB\u001b[0m \u001b[31m51.3 MB/s\u001b[0m eta \u001b[36m0:00:00\u001b[0m\n",
            "\u001b[?25hInstalling collected packages: nvidia-nvjitlink-cu12, nvidia-curand-cu12, nvidia-cufft-cu12, nvidia-cuda-runtime-cu12, nvidia-cuda-nvrtc-cu12, nvidia-cuda-cupti-cu12, nvidia-cublas-cu12, nvidia-cusparse-cu12, nvidia-cudnn-cu12, nvidia-cusolver-cu12, facenet-pytorch\n",
            "  Attempting uninstall: nvidia-nvjitlink-cu12\n",
            "    Found existing installation: nvidia-nvjitlink-cu12 12.5.82\n",
            "    Uninstalling nvidia-nvjitlink-cu12-12.5.82:\n",
            "      Successfully uninstalled nvidia-nvjitlink-cu12-12.5.82\n",
            "  Attempting uninstall: nvidia-curand-cu12\n",
            "    Found existing installation: nvidia-curand-cu12 10.3.6.82\n",
            "    Uninstalling nvidia-curand-cu12-10.3.6.82:\n",
            "      Successfully uninstalled nvidia-curand-cu12-10.3.6.82\n",
            "  Attempting uninstall: nvidia-cufft-cu12\n",
            "    Found existing installation: nvidia-cufft-cu12 11.2.3.61\n",
            "    Uninstalling nvidia-cufft-cu12-11.2.3.61:\n",
            "      Successfully uninstalled nvidia-cufft-cu12-11.2.3.61\n",
            "  Attempting uninstall: nvidia-cuda-runtime-cu12\n",
            "    Found existing installation: nvidia-cuda-runtime-cu12 12.5.82\n",
            "    Uninstalling nvidia-cuda-runtime-cu12-12.5.82:\n",
            "      Successfully uninstalled nvidia-cuda-runtime-cu12-12.5.82\n",
            "  Attempting uninstall: nvidia-cuda-nvrtc-cu12\n",
            "    Found existing installation: nvidia-cuda-nvrtc-cu12 12.5.82\n",
            "    Uninstalling nvidia-cuda-nvrtc-cu12-12.5.82:\n",
            "      Successfully uninstalled nvidia-cuda-nvrtc-cu12-12.5.82\n",
            "  Attempting uninstall: nvidia-cuda-cupti-cu12\n",
            "    Found existing installation: nvidia-cuda-cupti-cu12 12.5.82\n",
            "    Uninstalling nvidia-cuda-cupti-cu12-12.5.82:\n",
            "      Successfully uninstalled nvidia-cuda-cupti-cu12-12.5.82\n",
            "  Attempting uninstall: nvidia-cublas-cu12\n",
            "    Found existing installation: nvidia-cublas-cu12 12.5.3.2\n",
            "    Uninstalling nvidia-cublas-cu12-12.5.3.2:\n",
            "      Successfully uninstalled nvidia-cublas-cu12-12.5.3.2\n",
            "  Attempting uninstall: nvidia-cusparse-cu12\n",
            "    Found existing installation: nvidia-cusparse-cu12 12.5.1.3\n",
            "    Uninstalling nvidia-cusparse-cu12-12.5.1.3:\n",
            "      Successfully uninstalled nvidia-cusparse-cu12-12.5.1.3\n",
            "  Attempting uninstall: nvidia-cudnn-cu12\n",
            "    Found existing installation: nvidia-cudnn-cu12 9.3.0.75\n",
            "    Uninstalling nvidia-cudnn-cu12-9.3.0.75:\n",
            "      Successfully uninstalled nvidia-cudnn-cu12-9.3.0.75\n",
            "  Attempting uninstall: nvidia-cusolver-cu12\n",
            "    Found existing installation: nvidia-cusolver-cu12 11.6.3.83\n",
            "    Uninstalling nvidia-cusolver-cu12-11.6.3.83:\n",
            "      Successfully uninstalled nvidia-cusolver-cu12-11.6.3.83\n",
            "Successfully installed facenet-pytorch-2.5.3 nvidia-cublas-cu12-12.4.5.8 nvidia-cuda-cupti-cu12-12.4.127 nvidia-cuda-nvrtc-cu12-12.4.127 nvidia-cuda-runtime-cu12-12.4.127 nvidia-cudnn-cu12-9.1.0.70 nvidia-cufft-cu12-11.2.1.3 nvidia-curand-cu12-10.3.5.147 nvidia-cusolver-cu12-11.6.1.9 nvidia-cusparse-cu12-12.3.1.170 nvidia-nvjitlink-cu12-12.4.127\n"
          ]
        }
      ],
      "source": [
        "!pip install torch torchvision numpy matplotlib seaborn scikit-learn"
      ]
    },
    {
      "cell_type": "code",
      "execution_count": null,
      "metadata": {
        "id": "6N3ImD-RgNiL"
      },
      "outputs": [],
      "source": [
        "import torch\n",
        "import torchvision.transforms as transforms\n",
        "import torchvision.datasets as datasets\n",
        "import torch.nn as nn\n",
        "import torch.optim as optim\n",
        "import matplotlib.pyplot as plt\n",
        "import numpy as np\n",
        "from torch.utils.data import DataLoader\n",
        "from sklearn.metrics import classification_report, confusion_matrix\n",
        "import seaborn as sns"
      ]
    },
    {
      "cell_type": "code",
      "execution_count": null,
      "metadata": {
        "colab": {
          "base_uri": "https://localhost:8080/"
        },
        "id": "Kb6ZMXutg0hB",
        "outputId": "35a728ea-b120-480e-97ee-3971ad9bddae"
      },
      "outputs": [
        {
          "name": "stdout",
          "output_type": "stream",
          "text": [
            "Downloading from https://www.kaggle.com/api/v1/datasets/download/shuvoalok/raf-db-dataset?dataset_version_number=2...\n"
          ]
        },
        {
          "name": "stderr",
          "output_type": "stream",
          "text": [
            "100%|██████████| 37.7M/37.7M [00:00<00:00, 69.8MB/s]"
          ]
        },
        {
          "name": "stdout",
          "output_type": "stream",
          "text": [
            "Extracting files...\n"
          ]
        },
        {
          "name": "stderr",
          "output_type": "stream",
          "text": [
            "\n"
          ]
        },
        {
          "name": "stdout",
          "output_type": "stream",
          "text": [
            "Path to dataset files: /root/.cache/kagglehub/datasets/shuvoalok/raf-db-dataset/versions/2\n"
          ]
        }
      ],
      "source": [
        "# ref: https://www.kaggle.com/datasets/shuvoalok/raf-db-dataset\n",
        "# do this so we don't have to upload the zip file manually every time we run this notebook\n",
        "import kagglehub\n",
        "\n",
        "path = kagglehub.dataset_download(\"shuvoalok/raf-db-dataset\")\n",
        "print(\"Path to dataset files:\", path)"
      ]
    },
    {
      "cell_type": "code",
      "execution_count": null,
      "metadata": {
        "colab": {
          "base_uri": "https://localhost:8080/",
          "height": 35
        },
        "id": "iVrPUv8X96OR",
        "outputId": "538107a2-cd9c-4c51-f4dc-2771039e26d1"
      },
      "outputs": [
        {
          "data": {
            "application/vnd.google.colaboratory.intrinsic+json": {
              "type": "string"
            },
            "text/plain": [
              "'/content/raf-db'"
            ]
          },
          "execution_count": 4,
          "metadata": {},
          "output_type": "execute_result"
        }
      ],
      "source": [
        "import shutil\n",
        "destination_dir = '/content/raf-db'\n",
        "shutil.copytree(path, destination_dir)"
      ]
    },
    {
      "cell_type": "markdown",
      "metadata": {
        "id": "xsa5Oa4BjvXo"
      },
      "source": [
        "Emotion labels reference:\n",
        "1. Surprise\n",
        "2. Fear\n",
        "3. Disgust\n",
        "4. Happiness\n",
        "5. Sadness\n",
        "6. Anger\n",
        "7. Neutral"
      ]
    },
    {
      "cell_type": "code",
      "execution_count": null,
      "metadata": {
        "colab": {
          "base_uri": "https://localhost:8080/"
        },
        "id": "lmScOW4KiuqG",
        "outputId": "a8ba4aff-04de-4a4b-e4b1-b3a99c101602"
      },
      "outputs": [
        {
          "name": "stdout",
          "output_type": "stream",
          "text": [
            "train dataset labels:                       image  label\n",
            "0  train_00001_aligned.jpg      5\n",
            "1  train_00002_aligned.jpg      5\n",
            "2  train_00003_aligned.jpg      4\n",
            "3  train_00004_aligned.jpg      4\n",
            "4  train_00005_aligned.jpg      5\n",
            "test dataset labels:                     image  label\n",
            "0  test_0001_aligned.jpg      5\n",
            "1  test_0002_aligned.jpg      1\n",
            "2  test_0003_aligned.jpg      4\n",
            "3  test_0004_aligned.jpg      1\n",
            "4  test_0005_aligned.jpg      5\n"
          ]
        }
      ],
      "source": [
        "# load labels from train/test\n",
        "import pandas as pd\n",
        "train_labels = pd.read_csv(\"raf-db/train_labels.csv\")\n",
        "test_labels = pd.read_csv(\"raf-db/test_labels.csv\")\n",
        "\n",
        "print(\"train dataset labels: \", train_labels.head())\n",
        "print(\"test dataset labels: \", test_labels.head())"
      ]
    },
    {
      "cell_type": "code",
      "execution_count": null,
      "metadata": {
        "id": "zb27SEi4lbbN"
      },
      "outputs": [],
      "source": [
        "from torch.utils.data import Dataset, DataLoader\n",
        "from torchvision import transforms\n",
        "from PIL import Image\n",
        "\n",
        "transform = transforms.Compose([\n",
        "    transforms.Resize((128, 128)), # for ResNet\n",
        "    transforms.ToTensor(),\n",
        "    transforms.Normalize(mean=[0.5, 0.5, 0.5], std=[0.5, 0.5, 0.5])\n",
        "])"
      ]
    },
    {
      "cell_type": "markdown",
      "metadata": {
        "id": "-jvAwykebMY6"
      },
      "source": [
        "Create a `RAFDBDataset` class for easy integration with PyTorch, we can modify it later to include race labels from the FairFace work, etc."
      ]
    },
    {
      "cell_type": "code",
      "execution_count": null,
      "metadata": {
        "id": "LX2eKvgTlmgB"
      },
      "outputs": [],
      "source": [
        "class RAFDBDataset(Dataset):\n",
        "    def __init__(self, root_dir, transform=None):\n",
        "        # need to take into account the file structure: e.g. DATASET/train/1/train_0001_aligned.jpg\n",
        "        self.root_dir = root_dir\n",
        "        self.transform = transform\n",
        "        self.image_paths = []\n",
        "        self.labels = []\n",
        "\n",
        "        # file walkthrough: with some help from LLM\n",
        "        for label in sorted(os.listdir(root_dir)):\n",
        "            label_path = os.path.join(root_dir, label)\n",
        "            if os.path.isdir(label_path): # should be subdirectory\n",
        "                for img_name in os.listdir(label_path):\n",
        "                    self.image_paths.append(os.path.join(label_path, img_name))\n",
        "                    self.labels.append(int(label) - 1) # convert to zero indexing\n",
        "\n",
        "    def __len__(self):\n",
        "        return len(self.image_paths)\n",
        "\n",
        "    def __getitem__(self, idx):\n",
        "        img_path = self.image_paths[idx]\n",
        "        label = self.labels[idx]\n",
        "        image = Image.open(img_path).convert(\"RGB\")\n",
        "        if self.transform:\n",
        "            image = self.transform(image)\n",
        "\n",
        "        return image, label"
      ]
    },
    {
      "cell_type": "code",
      "execution_count": null,
      "metadata": {
        "colab": {
          "base_uri": "https://localhost:8080/"
        },
        "id": "892GXm2Pm1_e",
        "outputId": "db906d5b-0d4a-4fd9-a9ef-65b14164bee9"
      },
      "outputs": [
        {
          "name": "stdout",
          "output_type": "stream",
          "text": [
            "train data size: 12271, test data size: 3068\n",
            "example path: raf-db/DATASET/train/1/train_06771_aligned.jpg\n",
            "example label: 0\n"
          ]
        }
      ],
      "source": [
        "import os\n",
        "train_dir = \"raf-db/DATASET/train\"\n",
        "test_dir = \"raf-db/DATASET/test\"\n",
        "\n",
        "train_dataset = RAFDBDataset(root_dir=train_dir, transform=transform)\n",
        "test_dataset = RAFDBDataset(root_dir=test_dir, transform=transform)\n",
        "\n",
        "print(f\"train data size: {len(train_dataset)}, test data size: {len(test_dataset)}\")\n",
        "\n",
        "# test outputs are expected\n",
        "print(\"example path:\", train_dataset.image_paths[0])\n",
        "print(\"example label:\", train_dataset.labels[0])"
      ]
    },
    {
      "cell_type": "code",
      "execution_count": null,
      "metadata": {
        "colab": {
          "base_uri": "https://localhost:8080/"
        },
        "id": "VK6RHKmqqcZh",
        "outputId": "ee101663-b6f3-46c8-cf01-fe9509139e5b"
      },
      "outputs": [
        {
          "name": "stdout",
          "output_type": "stream",
          "text": [
            "training batches: 384\n",
            "test batches: 96\n"
          ]
        }
      ],
      "source": [
        "train_loader = DataLoader(train_dataset, batch_size=32, shuffle=True)\n",
        "test_loader = DataLoader(test_dataset, batch_size=32, shuffle=False)\n",
        "\n",
        "print(f\"training batches: {len(train_loader)}\")\n",
        "print(f\"test batches: {len(test_loader)}\")"
      ]
    },
    {
      "cell_type": "markdown",
      "metadata": {
        "id": "okaShUGbk9l-"
      },
      "source": [
        "### Build ResNet model from scratch"
      ]
    },
    {
      "cell_type": "code",
      "execution_count": null,
      "metadata": {
        "colab": {
          "base_uri": "https://localhost:8080/"
        },
        "id": "7CpooaiBjMJP",
        "outputId": "462f843c-d855-467b-9c84-d52f42cd6aa5"
      },
      "outputs": [
        {
          "name": "stdout",
          "output_type": "stream",
          "text": [
            "ResNet(\n",
            "  (conv1): Conv2d(3, 64, kernel_size=(7, 7), stride=(2, 2), padding=(3, 3), bias=False)\n",
            "  (bn1): BatchNorm2d(64, eps=1e-05, momentum=0.1, affine=True, track_running_stats=True)\n",
            "  (relu): ReLU(inplace=True)\n",
            "  (maxpool): MaxPool2d(kernel_size=3, stride=2, padding=1, dilation=1, ceil_mode=False)\n",
            "  (layer1): Sequential(\n",
            "    (0): ResNetBlock(\n",
            "      (conv1): Conv2d(64, 64, kernel_size=(3, 3), stride=(1, 1), padding=(1, 1), bias=False)\n",
            "      (bn1): BatchNorm2d(64, eps=1e-05, momentum=0.1, affine=True, track_running_stats=True)\n",
            "      (conv2): Conv2d(64, 64, kernel_size=(3, 3), stride=(1, 1), padding=(1, 1), bias=False)\n",
            "      (bn2): BatchNorm2d(64, eps=1e-05, momentum=0.1, affine=True, track_running_stats=True)\n",
            "    )\n",
            "    (1): ResNetBlock(\n",
            "      (conv1): Conv2d(64, 64, kernel_size=(3, 3), stride=(1, 1), padding=(1, 1), bias=False)\n",
            "      (bn1): BatchNorm2d(64, eps=1e-05, momentum=0.1, affine=True, track_running_stats=True)\n",
            "      (conv2): Conv2d(64, 64, kernel_size=(3, 3), stride=(1, 1), padding=(1, 1), bias=False)\n",
            "      (bn2): BatchNorm2d(64, eps=1e-05, momentum=0.1, affine=True, track_running_stats=True)\n",
            "    )\n",
            "  )\n",
            "  (layer2): Sequential(\n",
            "    (0): ResNetBlock(\n",
            "      (conv1): Conv2d(64, 128, kernel_size=(3, 3), stride=(2, 2), padding=(1, 1), bias=False)\n",
            "      (bn1): BatchNorm2d(128, eps=1e-05, momentum=0.1, affine=True, track_running_stats=True)\n",
            "      (conv2): Conv2d(128, 128, kernel_size=(3, 3), stride=(1, 1), padding=(1, 1), bias=False)\n",
            "      (bn2): BatchNorm2d(128, eps=1e-05, momentum=0.1, affine=True, track_running_stats=True)\n",
            "      (downsample): Sequential(\n",
            "        (0): Conv2d(64, 128, kernel_size=(1, 1), stride=(2, 2), bias=False)\n",
            "        (1): BatchNorm2d(128, eps=1e-05, momentum=0.1, affine=True, track_running_stats=True)\n",
            "      )\n",
            "    )\n",
            "    (1): ResNetBlock(\n",
            "      (conv1): Conv2d(128, 128, kernel_size=(3, 3), stride=(1, 1), padding=(1, 1), bias=False)\n",
            "      (bn1): BatchNorm2d(128, eps=1e-05, momentum=0.1, affine=True, track_running_stats=True)\n",
            "      (conv2): Conv2d(128, 128, kernel_size=(3, 3), stride=(1, 1), padding=(1, 1), bias=False)\n",
            "      (bn2): BatchNorm2d(128, eps=1e-05, momentum=0.1, affine=True, track_running_stats=True)\n",
            "    )\n",
            "  )\n",
            "  (layer3): Sequential(\n",
            "    (0): ResNetBlock(\n",
            "      (conv1): Conv2d(128, 256, kernel_size=(3, 3), stride=(2, 2), padding=(1, 1), bias=False)\n",
            "      (bn1): BatchNorm2d(256, eps=1e-05, momentum=0.1, affine=True, track_running_stats=True)\n",
            "      (conv2): Conv2d(256, 256, kernel_size=(3, 3), stride=(1, 1), padding=(1, 1), bias=False)\n",
            "      (bn2): BatchNorm2d(256, eps=1e-05, momentum=0.1, affine=True, track_running_stats=True)\n",
            "      (downsample): Sequential(\n",
            "        (0): Conv2d(128, 256, kernel_size=(1, 1), stride=(2, 2), bias=False)\n",
            "        (1): BatchNorm2d(256, eps=1e-05, momentum=0.1, affine=True, track_running_stats=True)\n",
            "      )\n",
            "    )\n",
            "    (1): ResNetBlock(\n",
            "      (conv1): Conv2d(256, 256, kernel_size=(3, 3), stride=(1, 1), padding=(1, 1), bias=False)\n",
            "      (bn1): BatchNorm2d(256, eps=1e-05, momentum=0.1, affine=True, track_running_stats=True)\n",
            "      (conv2): Conv2d(256, 256, kernel_size=(3, 3), stride=(1, 1), padding=(1, 1), bias=False)\n",
            "      (bn2): BatchNorm2d(256, eps=1e-05, momentum=0.1, affine=True, track_running_stats=True)\n",
            "    )\n",
            "  )\n",
            "  (layer4): Sequential(\n",
            "    (0): ResNetBlock(\n",
            "      (conv1): Conv2d(256, 512, kernel_size=(3, 3), stride=(2, 2), padding=(1, 1), bias=False)\n",
            "      (bn1): BatchNorm2d(512, eps=1e-05, momentum=0.1, affine=True, track_running_stats=True)\n",
            "      (conv2): Conv2d(512, 512, kernel_size=(3, 3), stride=(1, 1), padding=(1, 1), bias=False)\n",
            "      (bn2): BatchNorm2d(512, eps=1e-05, momentum=0.1, affine=True, track_running_stats=True)\n",
            "      (downsample): Sequential(\n",
            "        (0): Conv2d(256, 512, kernel_size=(1, 1), stride=(2, 2), bias=False)\n",
            "        (1): BatchNorm2d(512, eps=1e-05, momentum=0.1, affine=True, track_running_stats=True)\n",
            "      )\n",
            "    )\n",
            "    (1): ResNetBlock(\n",
            "      (conv1): Conv2d(512, 512, kernel_size=(3, 3), stride=(1, 1), padding=(1, 1), bias=False)\n",
            "      (bn1): BatchNorm2d(512, eps=1e-05, momentum=0.1, affine=True, track_running_stats=True)\n",
            "      (conv2): Conv2d(512, 512, kernel_size=(3, 3), stride=(1, 1), padding=(1, 1), bias=False)\n",
            "      (bn2): BatchNorm2d(512, eps=1e-05, momentum=0.1, affine=True, track_running_stats=True)\n",
            "    )\n",
            "  )\n",
            "  (avgpool): AdaptiveAvgPool2d(output_size=(1, 1))\n",
            "  (fc): Linear(in_features=512, out_features=7, bias=True)\n",
            ")\n"
          ]
        }
      ],
      "source": [
        "import torch.nn.functional as F\n",
        "\n",
        "class ResNetBlock(nn.Module):\n",
        "    def __init__(self, in_channels, out_channels, stride=1, downsample=None):\n",
        "        super(ResNetBlock, self).__init__()\n",
        "        self.conv1 = nn.Conv2d(in_channels, out_channels, kernel_size=3, stride=stride, padding=1, bias=False)\n",
        "        self.bn1 = nn.BatchNorm2d(out_channels)\n",
        "        self.conv2 = nn.Conv2d(out_channels, out_channels, kernel_size=3, stride=1, padding=1, bias=False)\n",
        "        self.bn2 = nn.BatchNorm2d(out_channels)\n",
        "        self.downsample = downsample\n",
        "\n",
        "    def forward(self, x):\n",
        "        identity = x\n",
        "        if self.downsample is not None:\n",
        "            identity = self.downsample(x)\n",
        "\n",
        "        out = self.conv1(x)\n",
        "        out = self.bn1(out)\n",
        "        out = F.relu(out)\n",
        "\n",
        "        out = self.conv2(out)\n",
        "        out = self.bn2(out)\n",
        "\n",
        "        out += identity\n",
        "        out = F.relu(out)\n",
        "\n",
        "        return out\n",
        "\n",
        "# full ResNet architecture\n",
        "class ResNet(nn.Module):\n",
        "    def __init__(self, num_classes=7):\n",
        "        super(ResNet, self).__init__()\n",
        "\n",
        "        self.conv1 = nn.Conv2d(3, 64, kernel_size=7, stride=2, padding=3, bias=False)\n",
        "        self.bn1 = nn.BatchNorm2d(64)\n",
        "        self.relu = nn.ReLU(inplace=True)\n",
        "        self.maxpool = nn.MaxPool2d(kernel_size=3, stride=2, padding=1)\n",
        "\n",
        "        # blocks for ResNet\n",
        "        self.layer1 = self._make_layer(64, 64, 2)\n",
        "        self.layer2 = self._make_layer(64, 128, 2, stride=2)\n",
        "        self.layer3 = self._make_layer(128, 256, 2, stride=2)\n",
        "        self.layer4 = self._make_layer(256, 512, 2, stride=2)\n",
        "\n",
        "        # FC\n",
        "        self.avgpool = nn.AdaptiveAvgPool2d((1, 1))\n",
        "        self.fc = nn.Linear(512, num_classes)\n",
        "\n",
        "    def _make_layer(self, in_channels, out_channels, blocks, stride=1):\n",
        "        downsample = None\n",
        "        if stride != 1 or in_channels != out_channels:\n",
        "            downsample = nn.Sequential(\n",
        "                nn.Conv2d(in_channels, out_channels, kernel_size=1, stride=stride, bias=False),\n",
        "                nn.BatchNorm2d(out_channels)\n",
        "            )\n",
        "\n",
        "        layers = []\n",
        "        layers.append(ResNetBlock(in_channels, out_channels, stride, downsample))\n",
        "        for _ in range(1, blocks):\n",
        "            layers.append(ResNetBlock(out_channels, out_channels))\n",
        "\n",
        "        return nn.Sequential(*layers)\n",
        "\n",
        "    def forward(self, x):\n",
        "        x = self.conv1(x)\n",
        "        x = self.bn1(x)\n",
        "        x = self.relu(x)\n",
        "        x = self.maxpool(x)\n",
        "\n",
        "        x = self.layer1(x)\n",
        "        x = self.layer2(x)\n",
        "        x = self.layer3(x)\n",
        "        x = self.layer4(x)\n",
        "\n",
        "        x = self.avgpool(x)\n",
        "        x = torch.flatten(x, 1)\n",
        "        x = self.fc(x)\n",
        "        return x\n",
        "\n",
        "# hardcode to \"cpu\" if we run out of Colab GPU credits\n",
        "device = torch.device(\"cuda\" if torch.cuda.is_available() else \"cpu\")\n",
        "num_classes = 7\n",
        "model = ResNet(num_classes=num_classes).to(device)\n",
        "\n",
        "print(model)"
      ]
    },
    {
      "cell_type": "markdown",
      "metadata": {
        "id": "U0VnwfTbb-Xz"
      },
      "source": [
        "### Initial training loop (no hyperparameter optimization)"
      ]
    },
    {
      "cell_type": "code",
      "execution_count": null,
      "metadata": {
        "id": "Ueq7_NoHrEJD"
      },
      "outputs": [],
      "source": [
        "import torch.optim as optim\n",
        "\n",
        "criterion = nn.CrossEntropyLoss()\n",
        "optimizer = optim.SGD(model.parameters(), lr=0.001)"
      ]
    },
    {
      "cell_type": "code",
      "execution_count": null,
      "metadata": {
        "colab": {
          "base_uri": "https://localhost:8080/"
        },
        "id": "WxCaHxQlrNMy",
        "outputId": "d58c07c0-61a1-4430-bf90-f1f6664d064c"
      },
      "outputs": [
        {
          "name": "stderr",
          "output_type": "stream",
          "text": [
            "Epoch [1/15]: 100%|██████████| 384/384 [00:27<00:00, 14.02batch/s, acc=0.397, loss=1.59]\n"
          ]
        },
        {
          "name": "stdout",
          "output_type": "stream",
          "text": [
            "Epoch [1/15] - Loss: 1.5862, Accuracy: 0.3970, Time: 27.40s\n"
          ]
        },
        {
          "name": "stderr",
          "output_type": "stream",
          "text": [
            "Epoch [2/15]: 100%|██████████| 384/384 [00:25<00:00, 14.91batch/s, acc=0.493, loss=1.4]\n"
          ]
        },
        {
          "name": "stdout",
          "output_type": "stream",
          "text": [
            "Epoch [2/15] - Loss: 1.3938, Accuracy: 0.4930, Time: 25.75s\n"
          ]
        },
        {
          "name": "stderr",
          "output_type": "stream",
          "text": [
            "Epoch [3/15]: 100%|██████████| 384/384 [00:25<00:00, 14.99batch/s, acc=0.582, loss=1.19]\n"
          ]
        },
        {
          "name": "stdout",
          "output_type": "stream",
          "text": [
            "Epoch [3/15] - Loss: 1.1841, Accuracy: 0.5815, Time: 25.63s\n"
          ]
        },
        {
          "name": "stderr",
          "output_type": "stream",
          "text": [
            "Epoch [4/15]: 100%|██████████| 384/384 [00:32<00:00, 11.72batch/s, acc=0.64, loss=1.03]\n"
          ]
        },
        {
          "name": "stdout",
          "output_type": "stream",
          "text": [
            "Epoch [4/15] - Loss: 1.0245, Accuracy: 0.6396, Time: 32.78s\n"
          ]
        },
        {
          "name": "stderr",
          "output_type": "stream",
          "text": [
            "Epoch [5/15]: 100%|██████████| 384/384 [00:27<00:00, 14.00batch/s, acc=0.69, loss=0.887]\n"
          ]
        },
        {
          "name": "stdout",
          "output_type": "stream",
          "text": [
            "Epoch [5/15] - Loss: 0.8858, Accuracy: 0.6897, Time: 27.44s\n"
          ]
        },
        {
          "name": "stderr",
          "output_type": "stream",
          "text": [
            "Epoch [6/15]: 100%|██████████| 384/384 [00:25<00:00, 14.93batch/s, acc=0.741, loss=0.756]\n"
          ]
        },
        {
          "name": "stdout",
          "output_type": "stream",
          "text": [
            "Epoch [6/15] - Loss: 0.7551, Accuracy: 0.7406, Time: 25.73s\n"
          ]
        },
        {
          "name": "stderr",
          "output_type": "stream",
          "text": [
            "Epoch [7/15]: 100%|██████████| 384/384 [00:25<00:00, 14.85batch/s, acc=0.787, loss=0.636]\n"
          ]
        },
        {
          "name": "stdout",
          "output_type": "stream",
          "text": [
            "Epoch [7/15] - Loss: 0.6350, Accuracy: 0.7867, Time: 25.87s\n"
          ]
        },
        {
          "name": "stderr",
          "output_type": "stream",
          "text": [
            "Epoch [8/15]: 100%|██████████| 384/384 [00:26<00:00, 14.39batch/s, acc=0.836, loss=0.518]\n"
          ]
        },
        {
          "name": "stdout",
          "output_type": "stream",
          "text": [
            "Epoch [8/15] - Loss: 0.5174, Accuracy: 0.8358, Time: 26.70s\n"
          ]
        },
        {
          "name": "stderr",
          "output_type": "stream",
          "text": [
            "Epoch [9/15]: 100%|██████████| 384/384 [00:25<00:00, 14.90batch/s, acc=0.879, loss=0.407]\n"
          ]
        },
        {
          "name": "stdout",
          "output_type": "stream",
          "text": [
            "Epoch [9/15] - Loss: 0.4067, Accuracy: 0.8789, Time: 25.78s\n"
          ]
        },
        {
          "name": "stderr",
          "output_type": "stream",
          "text": [
            "Epoch [10/15]: 100%|██████████| 384/384 [00:26<00:00, 14.75batch/s, acc=0.915, loss=0.308]\n"
          ]
        },
        {
          "name": "stdout",
          "output_type": "stream",
          "text": [
            "Epoch [10/15] - Loss: 0.3079, Accuracy: 0.9152, Time: 26.04s\n"
          ]
        },
        {
          "name": "stderr",
          "output_type": "stream",
          "text": [
            "Epoch [11/15]: 100%|██████████| 384/384 [00:25<00:00, 14.84batch/s, acc=0.941, loss=0.227]\n"
          ]
        },
        {
          "name": "stdout",
          "output_type": "stream",
          "text": [
            "Epoch [11/15] - Loss: 0.2270, Accuracy: 0.9414, Time: 25.88s\n"
          ]
        },
        {
          "name": "stderr",
          "output_type": "stream",
          "text": [
            "Epoch [12/15]: 100%|██████████| 384/384 [00:25<00:00, 14.89batch/s, acc=0.963, loss=0.17]\n"
          ]
        },
        {
          "name": "stdout",
          "output_type": "stream",
          "text": [
            "Epoch [12/15] - Loss: 0.1701, Accuracy: 0.9629, Time: 25.79s\n"
          ]
        },
        {
          "name": "stderr",
          "output_type": "stream",
          "text": [
            "Epoch [13/15]: 100%|██████████| 384/384 [00:25<00:00, 14.89batch/s, acc=0.977, loss=0.12]\n"
          ]
        },
        {
          "name": "stdout",
          "output_type": "stream",
          "text": [
            "Epoch [13/15] - Loss: 0.1197, Accuracy: 0.9771, Time: 25.79s\n"
          ]
        },
        {
          "name": "stderr",
          "output_type": "stream",
          "text": [
            "Epoch [14/15]: 100%|██████████| 384/384 [00:25<00:00, 14.90batch/s, acc=0.984, loss=0.093]\n"
          ]
        },
        {
          "name": "stdout",
          "output_type": "stream",
          "text": [
            "Epoch [14/15] - Loss: 0.0929, Accuracy: 0.9836, Time: 25.77s\n"
          ]
        },
        {
          "name": "stderr",
          "output_type": "stream",
          "text": [
            "Epoch [15/15]: 100%|██████████| 384/384 [00:25<00:00, 14.79batch/s, acc=0.99, loss=0.0698]\n"
          ]
        },
        {
          "name": "stdout",
          "output_type": "stream",
          "text": [
            "Epoch [15/15] - Loss: 0.0697, Accuracy: 0.9901, Time: 25.97s\n",
            "training done!\n"
          ]
        }
      ],
      "source": [
        "import time\n",
        "import numpy as np\n",
        "from tqdm import tqdm\n",
        "\n",
        "# train from scratch\n",
        "num_epochs = 15\n",
        "train_losses, train_accs = [], [] # for plotting later\n",
        "\n",
        "for epoch in range(num_epochs):\n",
        "    model.train()\n",
        "    running_loss, correct, total = 0.0, 0, 0\n",
        "    start_time = time.time()\n",
        "\n",
        "    with tqdm(train_loader, desc=f\"Epoch [{epoch+1}/{num_epochs}]\", unit=\"batch\") as t:\n",
        "        for images, labels in t:\n",
        "            images, labels = images.to(device), labels.to(device)\n",
        "\n",
        "            # do forward pass\n",
        "            outputs = model(images)\n",
        "            loss = criterion(outputs, labels)\n",
        "\n",
        "            # backprop\n",
        "            optimizer.zero_grad()\n",
        "            loss.backward()\n",
        "            optimizer.step()\n",
        "\n",
        "            # for metrics tracking\n",
        "            running_loss += loss.item()\n",
        "            _, predicted = torch.max(outputs, 1)\n",
        "            correct += (predicted == labels).sum().item()\n",
        "            total += labels.size(0)\n",
        "\n",
        "            t.set_postfix(loss=running_loss / (total / 32), acc=correct / total)\n",
        "\n",
        "    train_loss = running_loss / len(train_loader)\n",
        "    train_acc = correct / total\n",
        "    train_losses.append(train_loss)\n",
        "    train_accs.append(train_acc)\n",
        "\n",
        "    end_time = time.time()\n",
        "    print(f\"Epoch [{epoch+1}/{num_epochs}] - Loss: {train_loss:.4f}, Accuracy: {train_acc:.4f}, Time: {end_time - start_time:.2f}s\")\n",
        "\n",
        "print(\"training done!\")"
      ]
    },
    {
      "cell_type": "code",
      "execution_count": null,
      "metadata": {
        "colab": {
          "base_uri": "https://localhost:8080/",
          "height": 957
        },
        "id": "2DHXHGlLstPe",
        "outputId": "eea67fb9-45c1-47b3-bf4e-8dc27f73a9e9"
      },
      "outputs": [
        {
          "data": {
            "image/png": "[encoded data removed]",
            "text/plain": [
              "<Figure size 1000x500 with 1 Axes>"
            ]
          },
          "metadata": {},
          "output_type": "display_data"
        },
        {
          "data": {
            "image/png": "[encoded data removed]",
            "text/plain": [
              "<Figure size 1000x500 with 1 Axes>"
            ]
          },
          "metadata": {},
          "output_type": "display_data"
        }
      ],
      "source": [
        "plt.figure(figsize=(10, 5))\n",
        "plt.plot(range(1, num_epochs+1), train_losses, marker='o', linestyle='-', color='r', label=\"Train loss\")\n",
        "plt.xlabel(\"epoch\")\n",
        "plt.ylabel(\"loss\")\n",
        "plt.title(\"Train loss\")\n",
        "plt.legend()\n",
        "plt.grid()\n",
        "plt.show()\n",
        "\n",
        "# Plot Accuracy Curve\n",
        "plt.figure(figsize=(10, 5))\n",
        "plt.plot(range(1, num_epochs+1), train_accs, marker='o', linestyle='-', color='b', label=\"Train accuracy\")\n",
        "plt.xlabel(\"Epoch\")\n",
        "plt.ylabel(\"Accuracy\")\n",
        "plt.title(\"Train accuracy\")\n",
        "plt.legend()\n",
        "plt.grid()\n",
        "plt.show()"
      ]
    },
    {
      "cell_type": "markdown",
      "metadata": {
        "id": "JD7HcTNVwgS0"
      },
      "source": [
        "### Hyperparameter optimization for testing"
      ]
    },
    {
      "cell_type": "code",
      "execution_count": null,
      "metadata": {
        "id": "zpOMdi0nuy7a"
      },
      "outputs": [],
      "source": [
        "import itertools\n",
        "\n",
        "learning_rates = [1e-3, 1e-4, 1e-5]\n",
        "optimizers = [\"adam\", \"sgd\"]\n",
        "\n",
        "all_train_losses = {}\n",
        "all_train_accs = {}"
      ]
    },
    {
      "cell_type": "code",
      "execution_count": null,
      "metadata": {
        "colab": {
          "base_uri": "https://localhost:8080/"
        },
        "id": "8cu3v5vawnno",
        "outputId": "b0167e46-9665-4749-9106-fef400862b6c"
      },
      "outputs": [
        {
          "name": "stdout",
          "output_type": "stream",
          "text": [
            "\n",
            "LR=0.001, optimizer=adam\n",
            "\n"
          ]
        },
        {
          "name": "stderr",
          "output_type": "stream",
          "text": [
            "LR=0.001, optimizer=adam epoch [1/15]: 100%|██████████| 384/384 [00:28<00:00, 13.59batch/s, acc=0.492, loss=1.39]\n"
          ]
        },
        {
          "name": "stdout",
          "output_type": "stream",
          "text": [
            "epoch [1/15] - loss: 1.3895, train acc: 0.4919\n"
          ]
        },
        {
          "name": "stderr",
          "output_type": "stream",
          "text": [
            "LR=0.001, optimizer=adam epoch [2/15]: 100%|██████████| 384/384 [00:26<00:00, 14.58batch/s, acc=0.642, loss=0.991]\n"
          ]
        },
        {
          "name": "stdout",
          "output_type": "stream",
          "text": [
            "epoch [2/15] - loss: 0.9900, train acc: 0.6421\n"
          ]
        },
        {
          "name": "stderr",
          "output_type": "stream",
          "text": [
            "LR=0.001, optimizer=adam epoch [3/15]: 100%|██████████| 384/384 [00:25<00:00, 14.82batch/s, acc=0.703, loss=0.834]\n"
          ]
        },
        {
          "name": "stdout",
          "output_type": "stream",
          "text": [
            "epoch [3/15] - loss: 0.8331, train acc: 0.7029\n"
          ]
        },
        {
          "name": "stderr",
          "output_type": "stream",
          "text": [
            "LR=0.001, optimizer=adam epoch [4/15]: 100%|██████████| 384/384 [00:26<00:00, 14.62batch/s, acc=0.741, loss=0.729]\n"
          ]
        },
        {
          "name": "stdout",
          "output_type": "stream",
          "text": [
            "epoch [4/15] - loss: 0.7276, train acc: 0.7412\n"
          ]
        },
        {
          "name": "stderr",
          "output_type": "stream",
          "text": [
            "LR=0.001, optimizer=adam epoch [5/15]: 100%|██████████| 384/384 [00:26<00:00, 14.75batch/s, acc=0.782, loss=0.618]\n"
          ]
        },
        {
          "name": "stdout",
          "output_type": "stream",
          "text": [
            "epoch [5/15] - loss: 0.6174, train acc: 0.7816\n"
          ]
        },
        {
          "name": "stderr",
          "output_type": "stream",
          "text": [
            "LR=0.001, optimizer=adam epoch [6/15]: 100%|██████████| 384/384 [00:25<00:00, 14.80batch/s, acc=0.807, loss=0.542]\n"
          ]
        },
        {
          "name": "stdout",
          "output_type": "stream",
          "text": [
            "epoch [6/15] - loss: 0.5412, train acc: 0.8069\n"
          ]
        },
        {
          "name": "stderr",
          "output_type": "stream",
          "text": [
            "LR=0.001, optimizer=adam epoch [7/15]: 100%|██████████| 384/384 [00:26<00:00, 14.75batch/s, acc=0.841, loss=0.443]\n"
          ]
        },
        {
          "name": "stdout",
          "output_type": "stream",
          "text": [
            "epoch [7/15] - loss: 0.4423, train acc: 0.8413\n"
          ]
        },
        {
          "name": "stderr",
          "output_type": "stream",
          "text": [
            "LR=0.001, optimizer=adam epoch [8/15]: 100%|██████████| 384/384 [00:26<00:00, 14.76batch/s, acc=0.88, loss=0.337]\n"
          ]
        },
        {
          "name": "stdout",
          "output_type": "stream",
          "text": [
            "epoch [8/15] - loss: 0.3366, train acc: 0.8801\n"
          ]
        },
        {
          "name": "stderr",
          "output_type": "stream",
          "text": [
            "LR=0.001, optimizer=adam epoch [9/15]: 100%|██████████| 384/384 [00:25<00:00, 14.78batch/s, acc=0.909, loss=0.256]\n"
          ]
        },
        {
          "name": "stdout",
          "output_type": "stream",
          "text": [
            "epoch [9/15] - loss: 0.2553, train acc: 0.9090\n"
          ]
        },
        {
          "name": "stderr",
          "output_type": "stream",
          "text": [
            "LR=0.001, optimizer=adam epoch [10/15]: 100%|██████████| 384/384 [00:26<00:00, 14.66batch/s, acc=0.933, loss=0.187]\n"
          ]
        },
        {
          "name": "stdout",
          "output_type": "stream",
          "text": [
            "epoch [10/15] - loss: 0.1870, train acc: 0.9326\n"
          ]
        },
        {
          "name": "stderr",
          "output_type": "stream",
          "text": [
            "LR=0.001, optimizer=adam epoch [11/15]: 100%|██████████| 384/384 [00:26<00:00, 14.64batch/s, acc=0.948, loss=0.148]\n"
          ]
        },
        {
          "name": "stdout",
          "output_type": "stream",
          "text": [
            "epoch [11/15] - loss: 0.1476, train acc: 0.9476\n"
          ]
        },
        {
          "name": "stderr",
          "output_type": "stream",
          "text": [
            "LR=0.001, optimizer=adam epoch [12/15]: 100%|██████████| 384/384 [00:26<00:00, 14.72batch/s, acc=0.963, loss=0.105]\n"
          ]
        },
        {
          "name": "stdout",
          "output_type": "stream",
          "text": [
            "epoch [12/15] - loss: 0.1052, train acc: 0.9635\n"
          ]
        },
        {
          "name": "stderr",
          "output_type": "stream",
          "text": [
            "LR=0.001, optimizer=adam epoch [13/15]: 100%|██████████| 384/384 [00:26<00:00, 14.68batch/s, acc=0.967, loss=0.0934]\n"
          ]
        },
        {
          "name": "stdout",
          "output_type": "stream",
          "text": [
            "epoch [13/15] - loss: 0.0933, train acc: 0.9673\n"
          ]
        },
        {
          "name": "stderr",
          "output_type": "stream",
          "text": [
            "LR=0.001, optimizer=adam epoch [14/15]: 100%|██████████| 384/384 [00:26<00:00, 14.74batch/s, acc=0.971, loss=0.0876]\n"
          ]
        },
        {
          "name": "stdout",
          "output_type": "stream",
          "text": [
            "epoch [14/15] - loss: 0.0874, train acc: 0.9707\n"
          ]
        },
        {
          "name": "stderr",
          "output_type": "stream",
          "text": [
            "LR=0.001, optimizer=adam epoch [15/15]: 100%|██████████| 384/384 [00:26<00:00, 14.77batch/s, acc=0.976, loss=0.0666]\n"
          ]
        },
        {
          "name": "stdout",
          "output_type": "stream",
          "text": [
            "epoch [15/15] - loss: 0.0665, train acc: 0.9759\n",
            "saved best model with train acc = 0.9759 at best_resnet_LR0001_optimizeradam.pth\n",
            "\n",
            "LR=0.001, optimizer=sgd\n",
            "\n"
          ]
        },
        {
          "name": "stderr",
          "output_type": "stream",
          "text": [
            "LR=0.001, optimizer=sgd epoch [1/15]: 100%|██████████| 384/384 [00:25<00:00, 15.20batch/s, acc=0.537, loss=1.26]\n"
          ]
        },
        {
          "name": "stdout",
          "output_type": "stream",
          "text": [
            "epoch [1/15] - loss: 1.2620, train acc: 0.5371\n"
          ]
        },
        {
          "name": "stderr",
          "output_type": "stream",
          "text": [
            "LR=0.001, optimizer=sgd epoch [2/15]: 100%|██████████| 384/384 [00:25<00:00, 15.04batch/s, acc=0.699, loss=0.855]\n"
          ]
        },
        {
          "name": "stdout",
          "output_type": "stream",
          "text": [
            "epoch [2/15] - loss: 0.8534, train acc: 0.6986\n"
          ]
        },
        {
          "name": "stderr",
          "output_type": "stream",
          "text": [
            "LR=0.001, optimizer=sgd epoch [3/15]: 100%|██████████| 384/384 [00:25<00:00, 15.05batch/s, acc=0.767, loss=0.653]\n"
          ]
        },
        {
          "name": "stdout",
          "output_type": "stream",
          "text": [
            "epoch [3/15] - loss: 0.6521, train acc: 0.7668\n"
          ]
        },
        {
          "name": "stderr",
          "output_type": "stream",
          "text": [
            "LR=0.001, optimizer=sgd epoch [4/15]: 100%|██████████| 384/384 [00:25<00:00, 15.14batch/s, acc=0.846, loss=0.453]\n"
          ]
        },
        {
          "name": "stdout",
          "output_type": "stream",
          "text": [
            "epoch [4/15] - loss: 0.4528, train acc: 0.8458\n"
          ]
        },
        {
          "name": "stderr",
          "output_type": "stream",
          "text": [
            "LR=0.001, optimizer=sgd epoch [5/15]: 100%|██████████| 384/384 [00:25<00:00, 15.13batch/s, acc=0.892, loss=0.31]\n"
          ]
        },
        {
          "name": "stdout",
          "output_type": "stream",
          "text": [
            "epoch [5/15] - loss: 0.3092, train acc: 0.8923\n"
          ]
        },
        {
          "name": "stderr",
          "output_type": "stream",
          "text": [
            "LR=0.001, optimizer=sgd epoch [6/15]: 100%|██████████| 384/384 [00:26<00:00, 14.51batch/s, acc=0.931, loss=0.202]\n"
          ]
        },
        {
          "name": "stdout",
          "output_type": "stream",
          "text": [
            "epoch [6/15] - loss: 0.2018, train acc: 0.9313\n"
          ]
        },
        {
          "name": "stderr",
          "output_type": "stream",
          "text": [
            "LR=0.001, optimizer=sgd epoch [7/15]: 100%|██████████| 384/384 [00:25<00:00, 15.11batch/s, acc=0.962, loss=0.118]\n"
          ]
        },
        {
          "name": "stdout",
          "output_type": "stream",
          "text": [
            "epoch [7/15] - loss: 0.1177, train acc: 0.9624\n"
          ]
        },
        {
          "name": "stderr",
          "output_type": "stream",
          "text": [
            "LR=0.001, optimizer=sgd epoch [8/15]: 100%|██████████| 384/384 [00:25<00:00, 15.03batch/s, acc=0.972, loss=0.0822]\n"
          ]
        },
        {
          "name": "stdout",
          "output_type": "stream",
          "text": [
            "epoch [8/15] - loss: 0.0821, train acc: 0.9720\n"
          ]
        },
        {
          "name": "stderr",
          "output_type": "stream",
          "text": [
            "LR=0.001, optimizer=sgd epoch [9/15]: 100%|██████████| 384/384 [00:25<00:00, 15.09batch/s, acc=0.982, loss=0.0585]\n"
          ]
        },
        {
          "name": "stdout",
          "output_type": "stream",
          "text": [
            "epoch [9/15] - loss: 0.0584, train acc: 0.9824\n"
          ]
        },
        {
          "name": "stderr",
          "output_type": "stream",
          "text": [
            "LR=0.001, optimizer=sgd epoch [10/15]: 100%|██████████| 384/384 [00:25<00:00, 15.12batch/s, acc=0.989, loss=0.0381]\n"
          ]
        },
        {
          "name": "stdout",
          "output_type": "stream",
          "text": [
            "epoch [10/15] - loss: 0.0380, train acc: 0.9886\n"
          ]
        },
        {
          "name": "stderr",
          "output_type": "stream",
          "text": [
            "LR=0.001, optimizer=sgd epoch [11/15]: 100%|██████████| 384/384 [00:25<00:00, 15.05batch/s, acc=0.992, loss=0.026]\n"
          ]
        },
        {
          "name": "stdout",
          "output_type": "stream",
          "text": [
            "epoch [11/15] - loss: 0.0260, train acc: 0.9918\n"
          ]
        },
        {
          "name": "stderr",
          "output_type": "stream",
          "text": [
            "LR=0.001, optimizer=sgd epoch [12/15]: 100%|██████████| 384/384 [00:25<00:00, 14.99batch/s, acc=0.994, loss=0.0209]\n"
          ]
        },
        {
          "name": "stdout",
          "output_type": "stream",
          "text": [
            "epoch [12/15] - loss: 0.0209, train acc: 0.9938\n"
          ]
        },
        {
          "name": "stderr",
          "output_type": "stream",
          "text": [
            "LR=0.001, optimizer=sgd epoch [13/15]: 100%|██████████| 384/384 [00:25<00:00, 15.14batch/s, acc=0.997, loss=0.0124]\n"
          ]
        },
        {
          "name": "stdout",
          "output_type": "stream",
          "text": [
            "epoch [13/15] - loss: 0.0124, train acc: 0.9972\n"
          ]
        },
        {
          "name": "stderr",
          "output_type": "stream",
          "text": [
            "LR=0.001, optimizer=sgd epoch [14/15]: 100%|██████████| 384/384 [00:25<00:00, 15.09batch/s, acc=0.998, loss=0.00651]\n"
          ]
        },
        {
          "name": "stdout",
          "output_type": "stream",
          "text": [
            "epoch [14/15] - loss: 0.0065, train acc: 0.9985\n"
          ]
        },
        {
          "name": "stderr",
          "output_type": "stream",
          "text": [
            "LR=0.001, optimizer=sgd epoch [15/15]: 100%|██████████| 384/384 [00:25<00:00, 15.16batch/s, acc=0.999, loss=0.00485]\n"
          ]
        },
        {
          "name": "stdout",
          "output_type": "stream",
          "text": [
            "epoch [15/15] - loss: 0.0048, train acc: 0.9992\n",
            "saved best model with train acc = 0.9992 at best_resnet_LR0001_optimizersgd.pth\n",
            "\n",
            "LR=0.0001, optimizer=adam\n",
            "\n"
          ]
        },
        {
          "name": "stderr",
          "output_type": "stream",
          "text": [
            "LR=0.0001, optimizer=adam epoch [1/15]: 100%|██████████| 384/384 [00:26<00:00, 14.70batch/s, acc=0.594, loss=1.12]\n"
          ]
        },
        {
          "name": "stdout",
          "output_type": "stream",
          "text": [
            "epoch [1/15] - loss: 1.1161, train acc: 0.5942\n"
          ]
        },
        {
          "name": "stderr",
          "output_type": "stream",
          "text": [
            "LR=0.0001, optimizer=adam epoch [2/15]: 100%|██████████| 384/384 [00:26<00:00, 14.67batch/s, acc=0.735, loss=0.75]\n"
          ]
        },
        {
          "name": "stdout",
          "output_type": "stream",
          "text": [
            "epoch [2/15] - loss: 0.7485, train acc: 0.7347\n"
          ]
        },
        {
          "name": "stderr",
          "output_type": "stream",
          "text": [
            "LR=0.0001, optimizer=adam epoch [3/15]: 100%|██████████| 384/384 [00:26<00:00, 14.71batch/s, acc=0.816, loss=0.533]\n"
          ]
        },
        {
          "name": "stdout",
          "output_type": "stream",
          "text": [
            "epoch [3/15] - loss: 0.5323, train acc: 0.8163\n"
          ]
        },
        {
          "name": "stderr",
          "output_type": "stream",
          "text": [
            "LR=0.0001, optimizer=adam epoch [4/15]: 100%|██████████| 384/384 [00:26<00:00, 14.56batch/s, acc=0.88, loss=0.342]\n"
          ]
        },
        {
          "name": "stdout",
          "output_type": "stream",
          "text": [
            "epoch [4/15] - loss: 0.3410, train acc: 0.8796\n"
          ]
        },
        {
          "name": "stderr",
          "output_type": "stream",
          "text": [
            "LR=0.0001, optimizer=adam epoch [5/15]: 100%|██████████| 384/384 [00:26<00:00, 14.60batch/s, acc=0.927, loss=0.22]\n"
          ]
        },
        {
          "name": "stdout",
          "output_type": "stream",
          "text": [
            "epoch [5/15] - loss: 0.2199, train acc: 0.9270\n"
          ]
        },
        {
          "name": "stderr",
          "output_type": "stream",
          "text": [
            "LR=0.0001, optimizer=adam epoch [6/15]: 100%|██████████| 384/384 [00:26<00:00, 14.58batch/s, acc=0.952, loss=0.145]\n"
          ]
        },
        {
          "name": "stdout",
          "output_type": "stream",
          "text": [
            "epoch [6/15] - loss: 0.1448, train acc: 0.9517\n"
          ]
        },
        {
          "name": "stderr",
          "output_type": "stream",
          "text": [
            "LR=0.0001, optimizer=adam epoch [7/15]: 100%|██████████| 384/384 [00:26<00:00, 14.67batch/s, acc=0.967, loss=0.099]\n"
          ]
        },
        {
          "name": "stdout",
          "output_type": "stream",
          "text": [
            "epoch [7/15] - loss: 0.0988, train acc: 0.9668\n"
          ]
        },
        {
          "name": "stderr",
          "output_type": "stream",
          "text": [
            "LR=0.0001, optimizer=adam epoch [8/15]: 100%|██████████| 384/384 [00:26<00:00, 14.75batch/s, acc=0.968, loss=0.094]\n"
          ]
        },
        {
          "name": "stdout",
          "output_type": "stream",
          "text": [
            "epoch [8/15] - loss: 0.0938, train acc: 0.9681\n"
          ]
        },
        {
          "name": "stderr",
          "output_type": "stream",
          "text": [
            "LR=0.0001, optimizer=adam epoch [9/15]: 100%|██████████| 384/384 [00:26<00:00, 14.67batch/s, acc=0.971, loss=0.0825]\n"
          ]
        },
        {
          "name": "stdout",
          "output_type": "stream",
          "text": [
            "epoch [9/15] - loss: 0.0824, train acc: 0.9714\n"
          ]
        },
        {
          "name": "stderr",
          "output_type": "stream",
          "text": [
            "LR=0.0001, optimizer=adam epoch [10/15]: 100%|██████████| 384/384 [00:26<00:00, 14.62batch/s, acc=0.973, loss=0.0813]\n"
          ]
        },
        {
          "name": "stdout",
          "output_type": "stream",
          "text": [
            "epoch [10/15] - loss: 0.0812, train acc: 0.9729\n"
          ]
        },
        {
          "name": "stderr",
          "output_type": "stream",
          "text": [
            "LR=0.0001, optimizer=adam epoch [11/15]: 100%|██████████| 384/384 [00:26<00:00, 14.62batch/s, acc=0.979, loss=0.0667]\n"
          ]
        },
        {
          "name": "stdout",
          "output_type": "stream",
          "text": [
            "epoch [11/15] - loss: 0.0667, train acc: 0.9788\n"
          ]
        },
        {
          "name": "stderr",
          "output_type": "stream",
          "text": [
            "LR=0.0001, optimizer=adam epoch [12/15]: 100%|██████████| 384/384 [00:26<00:00, 14.74batch/s, acc=0.971, loss=0.0814]\n"
          ]
        },
        {
          "name": "stdout",
          "output_type": "stream",
          "text": [
            "epoch [12/15] - loss: 0.0813, train acc: 0.9709\n"
          ]
        },
        {
          "name": "stderr",
          "output_type": "stream",
          "text": [
            "LR=0.0001, optimizer=adam epoch [13/15]: 100%|██████████| 384/384 [00:26<00:00, 14.60batch/s, acc=0.981, loss=0.0562]\n"
          ]
        },
        {
          "name": "stdout",
          "output_type": "stream",
          "text": [
            "epoch [13/15] - loss: 0.0562, train acc: 0.9813\n"
          ]
        },
        {
          "name": "stderr",
          "output_type": "stream",
          "text": [
            "LR=0.0001, optimizer=adam epoch [14/15]: 100%|██████████| 384/384 [00:26<00:00, 14.76batch/s, acc=0.987, loss=0.0385]\n"
          ]
        },
        {
          "name": "stdout",
          "output_type": "stream",
          "text": [
            "epoch [14/15] - loss: 0.0384, train acc: 0.9871\n"
          ]
        },
        {
          "name": "stderr",
          "output_type": "stream",
          "text": [
            "LR=0.0001, optimizer=adam epoch [15/15]: 100%|██████████| 384/384 [00:26<00:00, 14.76batch/s, acc=0.977, loss=0.0677]\n"
          ]
        },
        {
          "name": "stdout",
          "output_type": "stream",
          "text": [
            "epoch [15/15] - loss: 0.0676, train acc: 0.9773\n",
            "\n",
            "LR=0.0001, optimizer=sgd\n",
            "\n"
          ]
        },
        {
          "name": "stderr",
          "output_type": "stream",
          "text": [
            "LR=0.0001, optimizer=sgd epoch [1/15]: 100%|██████████| 384/384 [00:25<00:00, 15.26batch/s, acc=0.403, loss=1.58]\n"
          ]
        },
        {
          "name": "stdout",
          "output_type": "stream",
          "text": [
            "epoch [1/15] - loss: 1.5756, train acc: 0.4031\n"
          ]
        },
        {
          "name": "stderr",
          "output_type": "stream",
          "text": [
            "LR=0.0001, optimizer=sgd epoch [2/15]: 100%|██████████| 384/384 [00:25<00:00, 15.18batch/s, acc=0.487, loss=1.39]\n"
          ]
        },
        {
          "name": "stdout",
          "output_type": "stream",
          "text": [
            "epoch [2/15] - loss: 1.3900, train acc: 0.4870\n"
          ]
        },
        {
          "name": "stderr",
          "output_type": "stream",
          "text": [
            "LR=0.0001, optimizer=sgd epoch [3/15]: 100%|██████████| 384/384 [00:25<00:00, 15.06batch/s, acc=0.578, loss=1.18]\n"
          ]
        },
        {
          "name": "stdout",
          "output_type": "stream",
          "text": [
            "epoch [3/15] - loss: 1.1817, train acc: 0.5779\n"
          ]
        },
        {
          "name": "stderr",
          "output_type": "stream",
          "text": [
            "LR=0.0001, optimizer=sgd epoch [4/15]: 100%|██████████| 384/384 [00:25<00:00, 15.17batch/s, acc=0.639, loss=1.03]\n"
          ]
        },
        {
          "name": "stdout",
          "output_type": "stream",
          "text": [
            "epoch [4/15] - loss: 1.0256, train acc: 0.6391\n"
          ]
        },
        {
          "name": "stderr",
          "output_type": "stream",
          "text": [
            "LR=0.0001, optimizer=sgd epoch [5/15]: 100%|██████████| 384/384 [00:25<00:00, 14.99batch/s, acc=0.687, loss=0.897]\n"
          ]
        },
        {
          "name": "stdout",
          "output_type": "stream",
          "text": [
            "epoch [5/15] - loss: 0.8962, train acc: 0.6873\n"
          ]
        },
        {
          "name": "stderr",
          "output_type": "stream",
          "text": [
            "LR=0.0001, optimizer=sgd epoch [6/15]: 100%|██████████| 384/384 [00:25<00:00, 14.90batch/s, acc=0.734, loss=0.776]\n"
          ]
        },
        {
          "name": "stdout",
          "output_type": "stream",
          "text": [
            "epoch [6/15] - loss: 0.7752, train acc: 0.7343\n"
          ]
        },
        {
          "name": "stderr",
          "output_type": "stream",
          "text": [
            "LR=0.0001, optimizer=sgd epoch [7/15]: 100%|██████████| 384/384 [00:25<00:00, 14.89batch/s, acc=0.778, loss=0.655]\n"
          ]
        },
        {
          "name": "stdout",
          "output_type": "stream",
          "text": [
            "epoch [7/15] - loss: 0.6537, train acc: 0.7776\n"
          ]
        },
        {
          "name": "stderr",
          "output_type": "stream",
          "text": [
            "LR=0.0001, optimizer=sgd epoch [8/15]: 100%|██████████| 384/384 [00:25<00:00, 14.99batch/s, acc=0.825, loss=0.543]\n"
          ]
        },
        {
          "name": "stdout",
          "output_type": "stream",
          "text": [
            "epoch [8/15] - loss: 0.5418, train acc: 0.8248\n"
          ]
        },
        {
          "name": "stderr",
          "output_type": "stream",
          "text": [
            "LR=0.0001, optimizer=sgd epoch [9/15]: 100%|██████████| 384/384 [00:25<00:00, 14.89batch/s, acc=0.868, loss=0.432]\n"
          ]
        },
        {
          "name": "stdout",
          "output_type": "stream",
          "text": [
            "epoch [9/15] - loss: 0.4312, train acc: 0.8682\n"
          ]
        },
        {
          "name": "stderr",
          "output_type": "stream",
          "text": [
            "LR=0.0001, optimizer=sgd epoch [10/15]: 100%|██████████| 384/384 [00:25<00:00, 14.91batch/s, acc=0.905, loss=0.334]\n"
          ]
        },
        {
          "name": "stdout",
          "output_type": "stream",
          "text": [
            "epoch [10/15] - loss: 0.3336, train acc: 0.9050\n"
          ]
        },
        {
          "name": "stderr",
          "output_type": "stream",
          "text": [
            "LR=0.0001, optimizer=sgd epoch [11/15]: 100%|██████████| 384/384 [00:25<00:00, 14.94batch/s, acc=0.931, loss=0.258]\n"
          ]
        },
        {
          "name": "stdout",
          "output_type": "stream",
          "text": [
            "epoch [11/15] - loss: 0.2580, train acc: 0.9308\n"
          ]
        },
        {
          "name": "stderr",
          "output_type": "stream",
          "text": [
            "LR=0.0001, optimizer=sgd epoch [12/15]: 100%|██████████| 384/384 [00:25<00:00, 14.90batch/s, acc=0.956, loss=0.184]\n"
          ]
        },
        {
          "name": "stdout",
          "output_type": "stream",
          "text": [
            "epoch [12/15] - loss: 0.1836, train acc: 0.9561\n"
          ]
        },
        {
          "name": "stderr",
          "output_type": "stream",
          "text": [
            "LR=0.0001, optimizer=sgd epoch [13/15]: 100%|██████████| 384/384 [00:25<00:00, 15.04batch/s, acc=0.972, loss=0.139]\n"
          ]
        },
        {
          "name": "stdout",
          "output_type": "stream",
          "text": [
            "epoch [13/15] - loss: 0.1387, train acc: 0.9716\n"
          ]
        },
        {
          "name": "stderr",
          "output_type": "stream",
          "text": [
            "LR=0.0001, optimizer=sgd epoch [14/15]: 100%|██████████| 384/384 [00:25<00:00, 15.10batch/s, acc=0.979, loss=0.108]\n"
          ]
        },
        {
          "name": "stdout",
          "output_type": "stream",
          "text": [
            "epoch [14/15] - loss: 0.1079, train acc: 0.9795\n"
          ]
        },
        {
          "name": "stderr",
          "output_type": "stream",
          "text": [
            "LR=0.0001, optimizer=sgd epoch [15/15]: 100%|██████████| 384/384 [00:25<00:00, 15.01batch/s, acc=0.986, loss=0.0809]\n"
          ]
        },
        {
          "name": "stdout",
          "output_type": "stream",
          "text": [
            "epoch [15/15] - loss: 0.0808, train acc: 0.9863\n",
            "\n",
            "LR=1e-05, optimizer=adam\n",
            "\n"
          ]
        },
        {
          "name": "stderr",
          "output_type": "stream",
          "text": [
            "LR=1e-05, optimizer=adam epoch [1/15]: 100%|██████████| 384/384 [00:26<00:00, 14.61batch/s, acc=0.461, loss=1.47]\n"
          ]
        },
        {
          "name": "stdout",
          "output_type": "stream",
          "text": [
            "epoch [1/15] - loss: 1.4708, train acc: 0.4613\n"
          ]
        },
        {
          "name": "stderr",
          "output_type": "stream",
          "text": [
            "LR=1e-05, optimizer=adam epoch [2/15]: 100%|██████████| 384/384 [00:26<00:00, 14.63batch/s, acc=0.643, loss=1.02]\n"
          ]
        },
        {
          "name": "stdout",
          "output_type": "stream",
          "text": [
            "epoch [2/15] - loss: 1.0178, train acc: 0.6432\n"
          ]
        },
        {
          "name": "stderr",
          "output_type": "stream",
          "text": [
            "LR=1e-05, optimizer=adam epoch [3/15]: 100%|██████████| 384/384 [00:26<00:00, 14.68batch/s, acc=0.761, loss=0.72]\n"
          ]
        },
        {
          "name": "stdout",
          "output_type": "stream",
          "text": [
            "epoch [3/15] - loss: 0.7185, train acc: 0.7615\n"
          ]
        },
        {
          "name": "stderr",
          "output_type": "stream",
          "text": [
            "LR=1e-05, optimizer=adam epoch [4/15]: 100%|██████████| 384/384 [00:26<00:00, 14.47batch/s, acc=0.863, loss=0.462]\n"
          ]
        },
        {
          "name": "stdout",
          "output_type": "stream",
          "text": [
            "epoch [4/15] - loss: 0.4609, train acc: 0.8629\n"
          ]
        },
        {
          "name": "stderr",
          "output_type": "stream",
          "text": [
            "LR=1e-05, optimizer=adam epoch [5/15]: 100%|██████████| 384/384 [00:26<00:00, 14.70batch/s, acc=0.928, loss=0.273]\n"
          ]
        },
        {
          "name": "stdout",
          "output_type": "stream",
          "text": [
            "epoch [5/15] - loss: 0.2730, train acc: 0.9280\n"
          ]
        },
        {
          "name": "stderr",
          "output_type": "stream",
          "text": [
            "LR=1e-05, optimizer=adam epoch [6/15]: 100%|██████████| 384/384 [00:26<00:00, 14.63batch/s, acc=0.967, loss=0.157]\n"
          ]
        },
        {
          "name": "stdout",
          "output_type": "stream",
          "text": [
            "epoch [6/15] - loss: 0.1571, train acc: 0.9671\n"
          ]
        },
        {
          "name": "stderr",
          "output_type": "stream",
          "text": [
            "LR=1e-05, optimizer=adam epoch [7/15]: 100%|██████████| 384/384 [00:26<00:00, 14.62batch/s, acc=0.983, loss=0.0994]\n"
          ]
        },
        {
          "name": "stdout",
          "output_type": "stream",
          "text": [
            "epoch [7/15] - loss: 0.0993, train acc: 0.9835\n"
          ]
        },
        {
          "name": "stderr",
          "output_type": "stream",
          "text": [
            "LR=1e-05, optimizer=adam epoch [8/15]: 100%|██████████| 384/384 [00:26<00:00, 14.70batch/s, acc=0.993, loss=0.0629]\n"
          ]
        },
        {
          "name": "stdout",
          "output_type": "stream",
          "text": [
            "epoch [8/15] - loss: 0.0628, train acc: 0.9925\n"
          ]
        },
        {
          "name": "stderr",
          "output_type": "stream",
          "text": [
            "LR=1e-05, optimizer=adam epoch [9/15]: 100%|██████████| 384/384 [00:26<00:00, 14.72batch/s, acc=0.993, loss=0.0525]\n"
          ]
        },
        {
          "name": "stdout",
          "output_type": "stream",
          "text": [
            "epoch [9/15] - loss: 0.0524, train acc: 0.9926\n"
          ]
        },
        {
          "name": "stderr",
          "output_type": "stream",
          "text": [
            "LR=1e-05, optimizer=adam epoch [10/15]: 100%|██████████| 384/384 [00:26<00:00, 14.50batch/s, acc=0.996, loss=0.0382]\n"
          ]
        },
        {
          "name": "stdout",
          "output_type": "stream",
          "text": [
            "epoch [10/15] - loss: 0.0381, train acc: 0.9958\n"
          ]
        },
        {
          "name": "stderr",
          "output_type": "stream",
          "text": [
            "LR=1e-05, optimizer=adam epoch [11/15]: 100%|██████████| 384/384 [00:26<00:00, 14.65batch/s, acc=0.995, loss=0.0358]\n"
          ]
        },
        {
          "name": "stdout",
          "output_type": "stream",
          "text": [
            "epoch [11/15] - loss: 0.0358, train acc: 0.9949\n"
          ]
        },
        {
          "name": "stderr",
          "output_type": "stream",
          "text": [
            "LR=1e-05, optimizer=adam epoch [12/15]: 100%|██████████| 384/384 [00:26<00:00, 14.59batch/s, acc=0.994, loss=0.0328]\n"
          ]
        },
        {
          "name": "stdout",
          "output_type": "stream",
          "text": [
            "epoch [12/15] - loss: 0.0328, train acc: 0.9945\n"
          ]
        },
        {
          "name": "stderr",
          "output_type": "stream",
          "text": [
            "LR=1e-05, optimizer=adam epoch [13/15]: 100%|██████████| 384/384 [00:26<00:00, 14.61batch/s, acc=0.995, loss=0.0328]\n"
          ]
        },
        {
          "name": "stdout",
          "output_type": "stream",
          "text": [
            "epoch [13/15] - loss: 0.0328, train acc: 0.9951\n"
          ]
        },
        {
          "name": "stderr",
          "output_type": "stream",
          "text": [
            "LR=1e-05, optimizer=adam epoch [14/15]: 100%|██████████| 384/384 [00:27<00:00, 14.13batch/s, acc=0.994, loss=0.0316]\n"
          ]
        },
        {
          "name": "stdout",
          "output_type": "stream",
          "text": [
            "epoch [14/15] - loss: 0.0316, train acc: 0.9943\n"
          ]
        },
        {
          "name": "stderr",
          "output_type": "stream",
          "text": [
            "LR=1e-05, optimizer=adam epoch [15/15]: 100%|██████████| 384/384 [00:27<00:00, 14.05batch/s, acc=0.996, loss=0.0255]\n"
          ]
        },
        {
          "name": "stdout",
          "output_type": "stream",
          "text": [
            "epoch [15/15] - loss: 0.0255, train acc: 0.9963\n",
            "\n",
            "LR=1e-05, optimizer=sgd\n",
            "\n"
          ]
        },
        {
          "name": "stderr",
          "output_type": "stream",
          "text": [
            "LR=1e-05, optimizer=sgd epoch [1/15]: 100%|██████████| 384/384 [00:26<00:00, 14.31batch/s, acc=0.323, loss=1.76]\n"
          ]
        },
        {
          "name": "stdout",
          "output_type": "stream",
          "text": [
            "epoch [1/15] - loss: 1.7573, train acc: 0.3231\n"
          ]
        },
        {
          "name": "stderr",
          "output_type": "stream",
          "text": [
            "LR=1e-05, optimizer=sgd epoch [2/15]: 100%|██████████| 384/384 [00:25<00:00, 14.81batch/s, acc=0.393, loss=1.61]\n"
          ]
        },
        {
          "name": "stdout",
          "output_type": "stream",
          "text": [
            "epoch [2/15] - loss: 1.6073, train acc: 0.3926\n"
          ]
        },
        {
          "name": "stderr",
          "output_type": "stream",
          "text": [
            "LR=1e-05, optimizer=sgd epoch [3/15]: 100%|██████████| 384/384 [00:26<00:00, 14.67batch/s, acc=0.398, loss=1.58]\n"
          ]
        },
        {
          "name": "stdout",
          "output_type": "stream",
          "text": [
            "epoch [3/15] - loss: 1.5787, train acc: 0.3982\n"
          ]
        },
        {
          "name": "stderr",
          "output_type": "stream",
          "text": [
            "LR=1e-05, optimizer=sgd epoch [4/15]: 100%|██████████| 384/384 [00:26<00:00, 14.69batch/s, acc=0.405, loss=1.56]\n"
          ]
        },
        {
          "name": "stdout",
          "output_type": "stream",
          "text": [
            "epoch [4/15] - loss: 1.5591, train acc: 0.4052\n"
          ]
        },
        {
          "name": "stderr",
          "output_type": "stream",
          "text": [
            "LR=1e-05, optimizer=sgd epoch [5/15]: 100%|██████████| 384/384 [00:26<00:00, 14.62batch/s, acc=0.413, loss=1.54]\n"
          ]
        },
        {
          "name": "stdout",
          "output_type": "stream",
          "text": [
            "epoch [5/15] - loss: 1.5405, train acc: 0.4133\n"
          ]
        },
        {
          "name": "stderr",
          "output_type": "stream",
          "text": [
            "LR=1e-05, optimizer=sgd epoch [6/15]: 100%|██████████| 384/384 [00:26<00:00, 14.71batch/s, acc=0.423, loss=1.53]\n"
          ]
        },
        {
          "name": "stdout",
          "output_type": "stream",
          "text": [
            "epoch [6/15] - loss: 1.5239, train acc: 0.4234\n"
          ]
        },
        {
          "name": "stderr",
          "output_type": "stream",
          "text": [
            "LR=1e-05, optimizer=sgd epoch [7/15]: 100%|██████████| 384/384 [00:26<00:00, 14.59batch/s, acc=0.426, loss=1.51]\n"
          ]
        },
        {
          "name": "stdout",
          "output_type": "stream",
          "text": [
            "epoch [7/15] - loss: 1.5089, train acc: 0.4260\n"
          ]
        },
        {
          "name": "stderr",
          "output_type": "stream",
          "text": [
            "LR=1e-05, optimizer=sgd epoch [8/15]: 100%|██████████| 384/384 [00:26<00:00, 14.64batch/s, acc=0.437, loss=1.49]\n"
          ]
        },
        {
          "name": "stdout",
          "output_type": "stream",
          "text": [
            "epoch [8/15] - loss: 1.4913, train acc: 0.4367\n"
          ]
        },
        {
          "name": "stderr",
          "output_type": "stream",
          "text": [
            "LR=1e-05, optimizer=sgd epoch [9/15]: 100%|██████████| 384/384 [00:25<00:00, 14.87batch/s, acc=0.449, loss=1.47]\n"
          ]
        },
        {
          "name": "stdout",
          "output_type": "stream",
          "text": [
            "epoch [9/15] - loss: 1.4728, train acc: 0.4485\n"
          ]
        },
        {
          "name": "stderr",
          "output_type": "stream",
          "text": [
            "LR=1e-05, optimizer=sgd epoch [10/15]: 100%|██████████| 384/384 [00:26<00:00, 14.72batch/s, acc=0.453, loss=1.46]\n"
          ]
        },
        {
          "name": "stdout",
          "output_type": "stream",
          "text": [
            "epoch [10/15] - loss: 1.4570, train acc: 0.4533\n"
          ]
        },
        {
          "name": "stderr",
          "output_type": "stream",
          "text": [
            "LR=1e-05, optimizer=sgd epoch [11/15]: 100%|██████████| 384/384 [00:25<00:00, 14.96batch/s, acc=0.461, loss=1.44]\n"
          ]
        },
        {
          "name": "stdout",
          "output_type": "stream",
          "text": [
            "epoch [11/15] - loss: 1.4358, train acc: 0.4613\n"
          ]
        },
        {
          "name": "stderr",
          "output_type": "stream",
          "text": [
            "LR=1e-05, optimizer=sgd epoch [12/15]: 100%|██████████| 384/384 [00:25<00:00, 14.97batch/s, acc=0.479, loss=1.41]\n"
          ]
        },
        {
          "name": "stdout",
          "output_type": "stream",
          "text": [
            "epoch [12/15] - loss: 1.4125, train acc: 0.4787\n"
          ]
        },
        {
          "name": "stderr",
          "output_type": "stream",
          "text": [
            "LR=1e-05, optimizer=sgd epoch [13/15]: 100%|██████████| 384/384 [00:25<00:00, 14.89batch/s, acc=0.491, loss=1.39]\n"
          ]
        },
        {
          "name": "stdout",
          "output_type": "stream",
          "text": [
            "epoch [13/15] - loss: 1.3885, train acc: 0.4912\n"
          ]
        },
        {
          "name": "stderr",
          "output_type": "stream",
          "text": [
            "LR=1e-05, optimizer=sgd epoch [14/15]: 100%|██████████| 384/384 [00:25<00:00, 14.99batch/s, acc=0.51, loss=1.37]\n"
          ]
        },
        {
          "name": "stdout",
          "output_type": "stream",
          "text": [
            "epoch [14/15] - loss: 1.3635, train acc: 0.5102\n"
          ]
        },
        {
          "name": "stderr",
          "output_type": "stream",
          "text": [
            "LR=1e-05, optimizer=sgd epoch [15/15]: 100%|██████████| 384/384 [00:25<00:00, 14.95batch/s, acc=0.527, loss=1.34]"
          ]
        },
        {
          "name": "stdout",
          "output_type": "stream",
          "text": [
            "epoch [15/15] - loss: 1.3342, train acc: 0.5270\n"
          ]
        },
        {
          "name": "stderr",
          "output_type": "stream",
          "text": [
            "\n"
          ]
        }
      ],
      "source": [
        "import itertools\n",
        "from tqdm import tqdm\n",
        "\n",
        "learning_rates = [1e-3, 1e-4, 1e-5]\n",
        "optimizers = [\"adam\", \"sgd\"]\n",
        "\n",
        "all_train_losses = {}\n",
        "all_train_accs = {}\n",
        "\n",
        "# so we can save the model and invoke it later\n",
        "best_model_state = None\n",
        "best_acc = 0.0\n",
        "best_hyperparams = \"\"\n",
        "best_model_filename = \"\"\n",
        "\n",
        "# grid search / random search\n",
        "for lr, opt_name in itertools.product(learning_rates, optimizers):\n",
        "    print(f\"\\nLR={lr}, optimizer={opt_name}\\n\")\n",
        "    model = ResNet(num_classes=7).to(device) # reset\n",
        "\n",
        "    if opt_name == \"adam\":\n",
        "        optimizer = torch.optim.Adam(model.parameters(), lr=lr)\n",
        "    elif opt_name == \"sgd\":\n",
        "        optimizer = torch.optim.SGD(model.parameters(), lr=lr, momentum=0.9)\n",
        "\n",
        "    train_losses, train_accs = [], []\n",
        "    for epoch in range(15):\n",
        "        model.train()\n",
        "        running_loss, correct, total = 0.0, 0, 0\n",
        "\n",
        "        with tqdm(train_loader, desc=f\"LR={lr}, optimizer={opt_name} epoch [{epoch+1}/15]\", unit=\"batch\") as t:\n",
        "            for images, labels in t:\n",
        "                images, labels = images.to(device), labels.to(device)\n",
        "\n",
        "                outputs = model(images)\n",
        "                loss = criterion(outputs, labels)\n",
        "\n",
        "                optimizer.zero_grad()\n",
        "                loss.backward()\n",
        "                optimizer.step()\n",
        "\n",
        "                running_loss += loss.item()\n",
        "                _, predicted = torch.max(outputs, 1)\n",
        "                correct += (predicted == labels).sum().item()\n",
        "                total += labels.size(0)\n",
        "\n",
        "                t.set_postfix(loss=running_loss / (total / 32), acc=correct / total)\n",
        "\n",
        "        train_loss = running_loss / len(train_loader)\n",
        "        train_acc = correct / total\n",
        "        train_losses.append(train_loss)\n",
        "        train_accs.append(train_acc)\n",
        "\n",
        "        print(f\"epoch [{epoch+1}/15] - loss: {train_loss:.4f}, train acc: {train_acc:.4f}\")\n",
        "\n",
        "    key = f\"LR={lr}, optimizer={opt_name}\"\n",
        "    all_train_losses[key] = train_losses\n",
        "    all_train_accs[key] = train_accs\n",
        "\n",
        "    # save best model\n",
        "    if train_acc > best_acc:\n",
        "        best_acc = train_acc\n",
        "        best_model_state = model.state_dict() # weights only, not the whole model\n",
        "        best_hyperparams = key\n",
        "        best_model_filename = f\"best_resnet_{key.replace(', ', '_').replace('=', '').replace('.', '')}.pth\"\n",
        "        torch.save(best_model_state, best_model_filename)\n",
        "        print(f\"saved best model with train acc = {best_acc:.4f} at {best_model_filename}\")\n"
      ]
    },
    {
      "cell_type": "code",
      "execution_count": null,
      "metadata": {
        "colab": {
          "base_uri": "https://localhost:8080/"
        },
        "id": "IKOBgv3Lw4Fj",
        "outputId": "0d8570b8-b07d-4fcd-8335-50721f0bcd21"
      },
      "outputs": [
        {
          "name": "stdout",
          "output_type": "stream",
          "text": [
            "best_resnet_LR0001_optimizersgd.pth\n"
          ]
        }
      ],
      "source": [
        "print(best_model_filename)"
      ]
    },
    {
      "cell_type": "code",
      "execution_count": null,
      "metadata": {
        "colab": {
          "base_uri": "https://localhost:8080/",
          "height": 564
        },
        "id": "rVaF_MjK88MO",
        "outputId": "7b59606f-588d-4bef-f631-0e8851f529ba"
      },
      "outputs": [
        {
          "data": {
            "image/png": "[encoded data removed]",
            "text/plain": [
              "<Figure size 1200x600 with 1 Axes>"
            ]
          },
          "metadata": {},
          "output_type": "display_data"
        }
      ],
      "source": [
        "plt.figure(figsize=(12, 6))\n",
        "for key, losses in all_train_losses.items():\n",
        "    plt.plot(range(1, len(losses) + 1), losses, marker='o', label=f\"{key} Loss\")\n",
        "plt.xlabel(\"epoch\")\n",
        "plt.ylabel(\"loss\")\n",
        "plt.title(\"Training loss w/ hyperparam. optimization\")\n",
        "plt.legend()\n",
        "plt.grid(True)\n",
        "plt.show()"
      ]
    },
    {
      "cell_type": "code",
      "execution_count": null,
      "metadata": {
        "colab": {
          "base_uri": "https://localhost:8080/",
          "height": 564
        },
        "id": "VotcGFTI9E0d",
        "outputId": "1e983742-69e2-43d5-fb62-ac41da261b22"
      },
      "outputs": [
        {
          "data": {
            "image/png": "[encoded data removed]",
            "text/plain": [
              "<Figure size 1200x600 with 1 Axes>"
            ]
          },
          "metadata": {},
          "output_type": "display_data"
        }
      ],
      "source": [
        "plt.figure(figsize=(12, 6))\n",
        "for key, accs in all_train_accs.items():\n",
        "    plt.plot(range(1, len(accs) + 1), accs, marker='o', label=f\"{key} Accuracy\")\n",
        "plt.xlabel(\"epoch\")\n",
        "plt.ylabel(\"train accuracy\")\n",
        "plt.title(\"Training accuracy w/ hyperparam. optimization\")\n",
        "plt.legend()\n",
        "plt.grid(True)\n",
        "plt.show()"
      ]
    },
    {
      "cell_type": "markdown",
      "metadata": {
        "id": "zrx4OWGm_tN4"
      },
      "source": [
        "### Testing / Evaluation"
      ]
    },
    {
      "cell_type": "code",
      "execution_count": null,
      "metadata": {
        "colab": {
          "base_uri": "https://localhost:8080/"
        },
        "id": "7yH8-AY09OcW",
        "outputId": "507bea73-c8da-4352-df76-4a81db9ef982"
      },
      "outputs": [
        {
          "data": {
            "text/plain": [
              "ResNet(\n",
              "  (conv1): Conv2d(3, 64, kernel_size=(7, 7), stride=(2, 2), padding=(3, 3), bias=False)\n",
              "  (bn1): BatchNorm2d(64, eps=1e-05, momentum=0.1, affine=True, track_running_stats=True)\n",
              "  (relu): ReLU(inplace=True)\n",
              "  (maxpool): MaxPool2d(kernel_size=3, stride=2, padding=1, dilation=1, ceil_mode=False)\n",
              "  (layer1): Sequential(\n",
              "    (0): ResNetBlock(\n",
              "      (conv1): Conv2d(64, 64, kernel_size=(3, 3), stride=(1, 1), padding=(1, 1), bias=False)\n",
              "      (bn1): BatchNorm2d(64, eps=1e-05, momentum=0.1, affine=True, track_running_stats=True)\n",
              "      (conv2): Conv2d(64, 64, kernel_size=(3, 3), stride=(1, 1), padding=(1, 1), bias=False)\n",
              "      (bn2): BatchNorm2d(64, eps=1e-05, momentum=0.1, affine=True, track_running_stats=True)\n",
              "    )\n",
              "    (1): ResNetBlock(\n",
              "      (conv1): Conv2d(64, 64, kernel_size=(3, 3), stride=(1, 1), padding=(1, 1), bias=False)\n",
              "      (bn1): BatchNorm2d(64, eps=1e-05, momentum=0.1, affine=True, track_running_stats=True)\n",
              "      (conv2): Conv2d(64, 64, kernel_size=(3, 3), stride=(1, 1), padding=(1, 1), bias=False)\n",
              "      (bn2): BatchNorm2d(64, eps=1e-05, momentum=0.1, affine=True, track_running_stats=True)\n",
              "    )\n",
              "  )\n",
              "  (layer2): Sequential(\n",
              "    (0): ResNetBlock(\n",
              "      (conv1): Conv2d(64, 128, kernel_size=(3, 3), stride=(2, 2), padding=(1, 1), bias=False)\n",
              "      (bn1): BatchNorm2d(128, eps=1e-05, momentum=0.1, affine=True, track_running_stats=True)\n",
              "      (conv2): Conv2d(128, 128, kernel_size=(3, 3), stride=(1, 1), padding=(1, 1), bias=False)\n",
              "      (bn2): BatchNorm2d(128, eps=1e-05, momentum=0.1, affine=True, track_running_stats=True)\n",
              "      (downsample): Sequential(\n",
              "        (0): Conv2d(64, 128, kernel_size=(1, 1), stride=(2, 2), bias=False)\n",
              "        (1): BatchNorm2d(128, eps=1e-05, momentum=0.1, affine=True, track_running_stats=True)\n",
              "      )\n",
              "    )\n",
              "    (1): ResNetBlock(\n",
              "      (conv1): Conv2d(128, 128, kernel_size=(3, 3), stride=(1, 1), padding=(1, 1), bias=False)\n",
              "      (bn1): BatchNorm2d(128, eps=1e-05, momentum=0.1, affine=True, track_running_stats=True)\n",
              "      (conv2): Conv2d(128, 128, kernel_size=(3, 3), stride=(1, 1), padding=(1, 1), bias=False)\n",
              "      (bn2): BatchNorm2d(128, eps=1e-05, momentum=0.1, affine=True, track_running_stats=True)\n",
              "    )\n",
              "  )\n",
              "  (layer3): Sequential(\n",
              "    (0): ResNetBlock(\n",
              "      (conv1): Conv2d(128, 256, kernel_size=(3, 3), stride=(2, 2), padding=(1, 1), bias=False)\n",
              "      (bn1): BatchNorm2d(256, eps=1e-05, momentum=0.1, affine=True, track_running_stats=True)\n",
              "      (conv2): Conv2d(256, 256, kernel_size=(3, 3), stride=(1, 1), padding=(1, 1), bias=False)\n",
              "      (bn2): BatchNorm2d(256, eps=1e-05, momentum=0.1, affine=True, track_running_stats=True)\n",
              "      (downsample): Sequential(\n",
              "        (0): Conv2d(128, 256, kernel_size=(1, 1), stride=(2, 2), bias=False)\n",
              "        (1): BatchNorm2d(256, eps=1e-05, momentum=0.1, affine=True, track_running_stats=True)\n",
              "      )\n",
              "    )\n",
              "    (1): ResNetBlock(\n",
              "      (conv1): Conv2d(256, 256, kernel_size=(3, 3), stride=(1, 1), padding=(1, 1), bias=False)\n",
              "      (bn1): BatchNorm2d(256, eps=1e-05, momentum=0.1, affine=True, track_running_stats=True)\n",
              "      (conv2): Conv2d(256, 256, kernel_size=(3, 3), stride=(1, 1), padding=(1, 1), bias=False)\n",
              "      (bn2): BatchNorm2d(256, eps=1e-05, momentum=0.1, affine=True, track_running_stats=True)\n",
              "    )\n",
              "  )\n",
              "  (layer4): Sequential(\n",
              "    (0): ResNetBlock(\n",
              "      (conv1): Conv2d(256, 512, kernel_size=(3, 3), stride=(2, 2), padding=(1, 1), bias=False)\n",
              "      (bn1): BatchNorm2d(512, eps=1e-05, momentum=0.1, affine=True, track_running_stats=True)\n",
              "      (conv2): Conv2d(512, 512, kernel_size=(3, 3), stride=(1, 1), padding=(1, 1), bias=False)\n",
              "      (bn2): BatchNorm2d(512, eps=1e-05, momentum=0.1, affine=True, track_running_stats=True)\n",
              "      (downsample): Sequential(\n",
              "        (0): Conv2d(256, 512, kernel_size=(1, 1), stride=(2, 2), bias=False)\n",
              "        (1): BatchNorm2d(512, eps=1e-05, momentum=0.1, affine=True, track_running_stats=True)\n",
              "      )\n",
              "    )\n",
              "    (1): ResNetBlock(\n",
              "      (conv1): Conv2d(512, 512, kernel_size=(3, 3), stride=(1, 1), padding=(1, 1), bias=False)\n",
              "      (bn1): BatchNorm2d(512, eps=1e-05, momentum=0.1, affine=True, track_running_stats=True)\n",
              "      (conv2): Conv2d(512, 512, kernel_size=(3, 3), stride=(1, 1), padding=(1, 1), bias=False)\n",
              "      (bn2): BatchNorm2d(512, eps=1e-05, momentum=0.1, affine=True, track_running_stats=True)\n",
              "    )\n",
              "  )\n",
              "  (avgpool): AdaptiveAvgPool2d(output_size=(1, 1))\n",
              "  (fc): Linear(in_features=512, out_features=7, bias=True)\n",
              ")"
            ]
          },
          "execution_count": 15,
          "metadata": {},
          "output_type": "execute_result"
        }
      ],
      "source": [
        "# evaluate / test\n",
        "best_model_filename = 'best_resnet_0_001_sgd.pth'\n",
        "best_model = ResNet(num_classes=7).to(device)\n",
        "best_model.load_state_dict(torch.load(best_model_filename))\n",
        "best_model.eval()"
      ]
    },
    {
      "cell_type": "code",
      "execution_count": null,
      "metadata": {
        "colab": {
          "base_uri": "https://localhost:8080/"
        },
        "id": "veTAC0xg9nmp",
        "outputId": "f7df8041-01fb-46d6-b7c3-d42c39b52a1b"
      },
      "outputs": [
        {
          "name": "stdout",
          "output_type": "stream",
          "text": [
            "best model test acc: 0.682348192348765\n"
          ]
        }
      ],
      "source": [
        "test_correct = 0\n",
        "test_total = 0\n",
        "\n",
        "y_true = []\n",
        "y_pred = []\n",
        "\n",
        "with torch.no_grad():\n",
        "    for images, labels in test_loader:\n",
        "        images, labels = images.to(device), labels.to(device)\n",
        "\n",
        "        outputs = best_model(images)\n",
        "        _, predicted = torch.max(outputs, 1)\n",
        "\n",
        "        test_correct += (predicted == labels).sum().item()\n",
        "        test_total += labels.size(0)\n",
        "\n",
        "        y_true.extend(labels.cpu().numpy())\n",
        "        y_pred.extend(predicted.cpu().numpy())\n",
        "\n",
        "test_acc = test_correct / test_total\n",
        "print(f\"best model test acc: {test_acc}\")"
      ]
    },
    {
      "cell_type": "markdown",
      "metadata": {
        "id": "31meZVQP97zt"
      },
      "source": [
        "### Dropout, Early Stopping, Weight Decay\n",
        "\n",
        "The model seems to be overfitting, so we can mitigate with some other techniques such as weight decay and dropout."
      ]
    },
    {
      "cell_type": "code",
      "execution_count": null,
      "metadata": {
        "id": "ds1_vFx8-JLf"
      },
      "outputs": [],
      "source": [
        "# copied from above so we don't have to rerun all the earlier cells\n",
        "class ResNetBlock(nn.Module):\n",
        "    def __init__(self, in_channels, out_channels, stride=1, downsample=None):\n",
        "        super(ResNetBlock, self).__init__()\n",
        "        self.conv1 = nn.Conv2d(in_channels, out_channels, kernel_size=3, stride=stride, padding=1, bias=False)\n",
        "        self.bn1 = nn.BatchNorm2d(out_channels)\n",
        "        self.conv2 = nn.Conv2d(out_channels, out_channels, kernel_size=3, stride=1, padding=1, bias=False)\n",
        "        self.bn2 = nn.BatchNorm2d(out_channels)\n",
        "        self.downsample = downsample\n",
        "\n",
        "    def forward(self, x):\n",
        "        identity = x\n",
        "        if self.downsample:\n",
        "            identity = self.downsample(x)\n",
        "\n",
        "        out = self.conv1(x)\n",
        "        out = self.bn1(out)\n",
        "        out = F.relu(out)\n",
        "\n",
        "        out = self.conv2(out)\n",
        "        out = self.bn2(out)\n",
        "\n",
        "        out += identity\n",
        "        out = F.relu(out)\n",
        "\n",
        "        return out\n",
        "\n",
        "# with dropout\n",
        "class ResNet(nn.Module):\n",
        "    def __init__(self, num_classes=7, dropout_prob=0.5):\n",
        "        super(ResNet, self).__init__()\n",
        "\n",
        "        self.conv1 = nn.Conv2d(3, 64, kernel_size=7, stride=2, padding=3, bias=False)\n",
        "        self.bn1 = nn.BatchNorm2d(64)\n",
        "        self.relu = nn.ReLU(inplace=True)\n",
        "        self.maxpool = nn.MaxPool2d(kernel_size=3, stride=2, padding=1)\n",
        "\n",
        "        self.layer1 = self._make_layer(64, 64, 2)\n",
        "        self.layer2 = self._make_layer(64, 128, 2, stride=2)\n",
        "        self.layer3 = self._make_layer(128, 256, 2, stride=2)\n",
        "        self.layer4 = self._make_layer(256, 512, 2, stride=2)\n",
        "\n",
        "        self.avgpool = nn.AdaptiveAvgPool2d((1, 1))\n",
        "\n",
        "        self.dropout = nn.Dropout(dropout_prob)\n",
        "        self.fc = nn.Linear(512, num_classes)\n",
        "\n",
        "    def _make_layer(self, in_channels, out_channels, blocks, stride=1):\n",
        "        downsample = None\n",
        "        if stride != 1 or in_channels != out_channels:\n",
        "            downsample = nn.Sequential(\n",
        "                nn.Conv2d(in_channels, out_channels, kernel_size=1, stride=stride, bias=False),\n",
        "                nn.BatchNorm2d(out_channels)\n",
        "            )\n",
        "\n",
        "        layers = []\n",
        "        layers.append(ResNetBlock(in_channels, out_channels, stride, downsample))\n",
        "        for _ in range(1, blocks):\n",
        "            layers.append(ResNetBlock(out_channels, out_channels))\n",
        "\n",
        "        return nn.Sequential(*layers)\n",
        "\n",
        "    def forward(self, x):\n",
        "        x = self.conv1(x)\n",
        "        x = self.bn1(x)\n",
        "        x = self.relu(x)\n",
        "        x = self.maxpool(x)\n",
        "\n",
        "        x = self.layer1(x)\n",
        "        x = self.layer2(x)\n",
        "        x = self.layer3(x)\n",
        "        x = self.layer4(x)\n",
        "\n",
        "        x = self.avgpool(x)\n",
        "        x = torch.flatten(x, 1)\n",
        "\n",
        "        x = self.dropout(x)\n",
        "        x = self.fc(x)\n",
        "\n",
        "        return x"
      ]
    },
    {
      "cell_type": "code",
      "execution_count": null,
      "metadata": {
        "colab": {
          "base_uri": "https://localhost:8080/"
        },
        "id": "pamZkYSB-lIS",
        "outputId": "b0fe10e8-afe7-480c-abc9-e4ccfbe88ea3"
      },
      "outputs": [
        {
          "name": "stderr",
          "output_type": "stream",
          "text": [
            "epoch [1/30]: 100%|██████████| 384/384 [00:26<00:00, 14.60batch/s, acc=0.438, loss=1.55]\n"
          ]
        },
        {
          "name": "stdout",
          "output_type": "stream",
          "text": [
            "epoch [1/30] - train loss: 1.5508, val loss: 1.2087, train acc: 0.4383, Val Acc: 0.5665\n",
            "best val loss improved. saving model.\n"
          ]
        },
        {
          "name": "stderr",
          "output_type": "stream",
          "text": [
            "epoch [2/30]: 100%|██████████| 384/384 [00:26<00:00, 14.67batch/s, acc=0.601, loss=1.12]\n"
          ]
        },
        {
          "name": "stdout",
          "output_type": "stream",
          "text": [
            "epoch [2/30] - train loss: 1.1171, val loss: 0.9662, train acc: 0.6012, Val Acc: 0.6375\n",
            "best val loss improved. saving model.\n"
          ]
        },
        {
          "name": "stderr",
          "output_type": "stream",
          "text": [
            "epoch [3/30]: 100%|██████████| 384/384 [00:26<00:00, 14.67batch/s, acc=0.677, loss=0.91]\n"
          ]
        },
        {
          "name": "stdout",
          "output_type": "stream",
          "text": [
            "epoch [3/30] - train loss: 0.9087, val loss: 0.8317, train acc: 0.6770, Val Acc: 0.7102\n",
            "best val loss improved. saving model.\n"
          ]
        },
        {
          "name": "stderr",
          "output_type": "stream",
          "text": [
            "epoch [4/30]: 100%|██████████| 384/384 [00:26<00:00, 14.67batch/s, acc=0.707, loss=0.822]\n"
          ]
        },
        {
          "name": "stdout",
          "output_type": "stream",
          "text": [
            "epoch [4/30] - train loss: 0.8207, val loss: 0.8553, train acc: 0.7074, Val Acc: 0.7122\n",
            "no improvement - early stopping counter: 1/8\n"
          ]
        },
        {
          "name": "stderr",
          "output_type": "stream",
          "text": [
            "epoch [5/30]: 100%|██████████| 384/384 [00:26<00:00, 14.64batch/s, acc=0.74, loss=0.739]\n"
          ]
        },
        {
          "name": "stdout",
          "output_type": "stream",
          "text": [
            "epoch [5/30] - train loss: 0.7383, val loss: 0.8323, train acc: 0.7400, Val Acc: 0.7011\n",
            "no improvement - early stopping counter: 2/8\n"
          ]
        },
        {
          "name": "stderr",
          "output_type": "stream",
          "text": [
            "epoch [6/30]: 100%|██████████| 384/384 [00:26<00:00, 14.66batch/s, acc=0.76, loss=0.667]\n"
          ]
        },
        {
          "name": "stdout",
          "output_type": "stream",
          "text": [
            "epoch [6/30] - train loss: 0.6662, val loss: 0.8200, train acc: 0.7604, Val Acc: 0.7102\n",
            "best val loss improved. saving model.\n"
          ]
        },
        {
          "name": "stderr",
          "output_type": "stream",
          "text": [
            "epoch [7/30]: 100%|██████████| 384/384 [00:26<00:00, 14.65batch/s, acc=0.785, loss=0.607]\n"
          ]
        },
        {
          "name": "stdout",
          "output_type": "stream",
          "text": [
            "epoch [7/30] - train loss: 0.6063, val loss: 0.7477, train acc: 0.7848, Val Acc: 0.7520\n",
            "best val loss improved. saving model.\n"
          ]
        },
        {
          "name": "stderr",
          "output_type": "stream",
          "text": [
            "epoch [8/30]: 100%|██████████| 384/384 [00:26<00:00, 14.68batch/s, acc=0.809, loss=0.543]\n"
          ]
        },
        {
          "name": "stdout",
          "output_type": "stream",
          "text": [
            "epoch [8/30] - train loss: 0.5424, val loss: 0.7373, train acc: 0.8094, Val Acc: 0.7405\n",
            "best val loss improved. saving model.\n"
          ]
        },
        {
          "name": "stderr",
          "output_type": "stream",
          "text": [
            "epoch [9/30]: 100%|██████████| 384/384 [00:26<00:00, 14.65batch/s, acc=0.831, loss=0.481]\n"
          ]
        },
        {
          "name": "stdout",
          "output_type": "stream",
          "text": [
            "epoch [9/30] - train loss: 0.4808, val loss: 0.8033, train acc: 0.8312, Val Acc: 0.7327\n",
            "no improvement - early stopping counter: 1/8\n"
          ]
        },
        {
          "name": "stderr",
          "output_type": "stream",
          "text": [
            "epoch [10/30]: 100%|██████████| 384/384 [00:26<00:00, 14.54batch/s, acc=0.856, loss=0.411]\n"
          ]
        },
        {
          "name": "stdout",
          "output_type": "stream",
          "text": [
            "epoch [10/30] - train loss: 0.4103, val loss: 0.6909, train acc: 0.8561, Val Acc: 0.7630\n",
            "best val loss improved. saving model.\n"
          ]
        },
        {
          "name": "stderr",
          "output_type": "stream",
          "text": [
            "epoch [11/30]: 100%|██████████| 384/384 [00:26<00:00, 14.48batch/s, acc=0.882, loss=0.338]\n"
          ]
        },
        {
          "name": "stdout",
          "output_type": "stream",
          "text": [
            "epoch [11/30] - train loss: 0.3378, val loss: 0.8046, train acc: 0.8815, Val Acc: 0.7523\n",
            "no improvement - early stopping counter: 1/8\n"
          ]
        },
        {
          "name": "stderr",
          "output_type": "stream",
          "text": [
            "epoch [12/30]: 100%|██████████| 384/384 [00:26<00:00, 14.62batch/s, acc=0.901, loss=0.286]\n"
          ]
        },
        {
          "name": "stdout",
          "output_type": "stream",
          "text": [
            "epoch [12/30] - train loss: 0.2860, val loss: 0.8602, train acc: 0.9007, Val Acc: 0.7389\n",
            "no improvement - early stopping counter: 2/8\n"
          ]
        },
        {
          "name": "stderr",
          "output_type": "stream",
          "text": [
            "epoch [13/30]: 100%|██████████| 384/384 [00:26<00:00, 14.63batch/s, acc=0.926, loss=0.218]\n"
          ]
        },
        {
          "name": "stdout",
          "output_type": "stream",
          "text": [
            "epoch [13/30] - train loss: 0.2180, val loss: 0.9595, train acc: 0.9258, Val Acc: 0.7454\n",
            "no improvement - early stopping counter: 3/8\n"
          ]
        },
        {
          "name": "stderr",
          "output_type": "stream",
          "text": [
            "epoch [14/30]: 100%|██████████| 384/384 [00:26<00:00, 14.62batch/s, acc=0.939, loss=0.185]\n"
          ]
        },
        {
          "name": "stdout",
          "output_type": "stream",
          "text": [
            "epoch [14/30] - train loss: 0.1844, val loss: 0.9629, train acc: 0.9390, Val Acc: 0.7559\n",
            "no improvement - early stopping counter: 4/8\n"
          ]
        },
        {
          "name": "stderr",
          "output_type": "stream",
          "text": [
            "epoch [15/30]: 100%|██████████| 384/384 [00:26<00:00, 14.55batch/s, acc=0.942, loss=0.165]\n"
          ]
        },
        {
          "name": "stdout",
          "output_type": "stream",
          "text": [
            "epoch [15/30] - train loss: 0.1650, val loss: 1.0588, train acc: 0.9417, Val Acc: 0.7298\n",
            "no improvement - early stopping counter: 5/8\n"
          ]
        },
        {
          "name": "stderr",
          "output_type": "stream",
          "text": [
            "epoch [16/30]: 100%|██████████| 384/384 [00:26<00:00, 14.62batch/s, acc=0.953, loss=0.136]\n"
          ]
        },
        {
          "name": "stdout",
          "output_type": "stream",
          "text": [
            "epoch [16/30] - train loss: 0.1356, val loss: 1.0803, train acc: 0.9531, Val Acc: 0.7565\n",
            "no improvement - early stopping counter: 6/8\n"
          ]
        },
        {
          "name": "stderr",
          "output_type": "stream",
          "text": [
            "epoch [17/30]: 100%|██████████| 384/384 [00:26<00:00, 14.52batch/s, acc=0.957, loss=0.131]\n"
          ]
        },
        {
          "name": "stdout",
          "output_type": "stream",
          "text": [
            "epoch [17/30] - train loss: 0.1310, val loss: 0.9915, train acc: 0.9572, Val Acc: 0.7493\n",
            "no improvement - early stopping counter: 7/8\n"
          ]
        },
        {
          "name": "stderr",
          "output_type": "stream",
          "text": [
            "epoch [18/30]: 100%|██████████| 384/384 [00:26<00:00, 14.59batch/s, acc=0.961, loss=0.118]\n"
          ]
        },
        {
          "name": "stdout",
          "output_type": "stream",
          "text": [
            "epoch [18/30] - train loss: 0.1179, val loss: 1.0917, train acc: 0.9614, Val Acc: 0.7392\n",
            "no improvement - early stopping counter: 8/8\n",
            "early stopping triggered at epoch 18\n",
            "Training complete.\n"
          ]
        }
      ],
      "source": [
        "# Training loop with dropout, weight decay, early stopping\n",
        "\n",
        "num_classes = 7\n",
        "num_epochs = 15\n",
        "patience = 5 # early stopping\n",
        "dropout_prob = 0.5\n",
        "weight_decay = 1e-4\n",
        "learning_rate = 0.001\n",
        "\n",
        "device = torch.device(\"cuda\" if torch.cuda.is_available() else \"cpu\")\n",
        "model = ResNet(num_classes=num_classes, dropout_prob=dropout_prob).to(device)\n",
        "\n",
        "criterion = nn.CrossEntropyLoss()\n",
        "optimizer = optim.Adam(model.parameters(), lr=learning_rate, weight_decay=weight_decay)\n",
        "\n",
        "best_val_loss = np.inf\n",
        "best_model_state = None\n",
        "early_stop_counter = 0\n",
        "\n",
        "train_losses = []\n",
        "val_losses = []\n",
        "train_accs = []\n",
        "val_accs = []\n",
        "\n",
        "for epoch in range(num_epochs):\n",
        "    model.train()\n",
        "    running_loss, correct, total = 0.0, 0, 0\n",
        "\n",
        "    with tqdm(train_loader, desc=f\"epoch [{epoch+1}/{num_epochs}]\", unit=\"batch\") as t:\n",
        "        for images, labels in t:\n",
        "            images, labels = images.to(device), labels.to(device)\n",
        "\n",
        "            optimizer.zero_grad()\n",
        "\n",
        "            outputs = model(images)\n",
        "            loss = criterion(outputs, labels)\n",
        "\n",
        "            loss.backward()\n",
        "            optimizer.step()\n",
        "\n",
        "            running_loss += loss.item()\n",
        "            _, predicted = torch.max(outputs, 1)\n",
        "            correct += (predicted == labels).sum().item()\n",
        "            total += labels.size(0)\n",
        "\n",
        "            t.set_postfix(loss=running_loss / (total / 32), acc=correct / total)\n",
        "\n",
        "    train_loss = running_loss / len(train_loader)\n",
        "    train_acc = correct / total\n",
        "\n",
        "    train_losses.append(train_loss)\n",
        "    train_accs.append(train_acc)\n",
        "\n",
        "    model.eval()\n",
        "\n",
        "    # Also try to train on validation set so we could find out how much the model is overfitting\n",
        "    val_loss, val_correct, val_total = 0.0, 0, 0\n",
        "\n",
        "    with torch.no_grad():\n",
        "        for images, labels in test_loader:\n",
        "            images, labels = images.to(device), labels.to(device)\n",
        "\n",
        "            outputs = model(images)\n",
        "            loss = criterion(outputs, labels)\n",
        "\n",
        "            val_loss += loss.item()\n",
        "            _, predicted = torch.max(outputs, 1)\n",
        "            val_correct += (predicted == labels).sum().item()\n",
        "            val_total += labels.size(0)\n",
        "\n",
        "    val_loss /= len(test_loader)\n",
        "    val_acc = val_correct / val_total\n",
        "\n",
        "    val_losses.append(val_loss)\n",
        "    val_accs.append(val_acc)\n",
        "\n",
        "    print(f\"epoch [{epoch+1}/{num_epochs}] - train loss: {train_loss:.4f}, val loss: {val_loss:.4f}, train acc: {train_acc:.4f}, Val Acc: {val_acc:.4f}\")\n",
        "\n",
        "    if val_loss < best_val_loss:\n",
        "        best_val_loss = val_loss\n",
        "        best_model_state = model.state_dict()\n",
        "        early_stop_counter = 0\n",
        "        print(f\"best val loss improved. saving model.\")\n",
        "        torch.save(best_model_state, \"best_resnet_model.pth\")\n",
        "    else:\n",
        "        early_stop_counter += 1\n",
        "        print(f\"no improvement - early stopping counter: {early_stop_counter}/{patience}\")\n",
        "\n",
        "    if early_stop_counter >= patience:\n",
        "        print(f\"early stopping triggered at epoch {epoch+1}\")\n",
        "        break\n",
        "\n",
        "print(\"Training complete.\")\n"
      ]
    },
    {
      "cell_type": "code",
      "execution_count": null,
      "metadata": {
        "colab": {
          "base_uri": "https://localhost:8080/",
          "height": 487
        },
        "id": "-tS8jiB3-_o6",
        "outputId": "7c41adf3-015f-4385-fc9c-75d5136ac361"
      },
      "outputs": [
        {
          "data": {
            "image/png": "[encoded data removed]",
            "text/plain": [
              "<Figure size 1200x500 with 1 Axes>"
            ]
          },
          "metadata": {},
          "output_type": "display_data"
        }
      ],
      "source": [
        "plt.figure(figsize=(12, 5))\n",
        "plt.plot(train_losses, label='training loss')\n",
        "plt.plot(val_losses, label='validation loss')\n",
        "plt.xlabel('epoch')\n",
        "plt.ylabel('loss')\n",
        "plt.title('Training & validation loss')\n",
        "plt.legend()\n",
        "plt.grid(True)\n",
        "plt.show()"
      ]
    },
    {
      "cell_type": "code",
      "execution_count": null,
      "metadata": {
        "colab": {
          "base_uri": "https://localhost:8080/",
          "height": 487
        },
        "id": "5m6Jzg_LAz8f",
        "outputId": "94c96e89-d67e-4a02-b397-c714d1603338"
      },
      "outputs": [
        {
          "data": {
            "image/png": "[encoded data removed]",
            "text/plain": [
              "<Figure size 1200x500 with 1 Axes>"
            ]
          },
          "metadata": {},
          "output_type": "display_data"
        }
      ],
      "source": [
        "plt.figure(figsize=(12, 5))\n",
        "plt.plot(train_accs, label='training acc')\n",
        "plt.plot(val_accs, label='validation acc')\n",
        "plt.xlabel('epoch')\n",
        "plt.ylabel('accuracy')\n",
        "plt.title('Training & validation accuracy')\n",
        "plt.legend()\n",
        "plt.grid(True)\n",
        "plt.show()"
      ]
    },
    {
      "cell_type": "code",
      "execution_count": null,
      "metadata": {
        "colab": {
          "base_uri": "https://localhost:8080/"
        },
        "id": "oimdeI1gBJo7",
        "outputId": "a35691b7-f705-427a-bbc8-18ca9bb60a69"
      },
      "outputs": [
        {
          "name": "stdout",
          "output_type": "stream",
          "text": [
            "best model test acc: 0.71020378096479792\n"
          ]
        }
      ],
      "source": [
        "best_model = ResNet(num_classes=num_classes, dropout_prob=dropout_prob).to(device)\n",
        "best_model.load_state_dict(torch.load(\"best_resnet_model.pth\"))\n",
        "best_model.eval()\n",
        "\n",
        "test_correct = 0\n",
        "test_total = 0\n",
        "y_true = []\n",
        "y_pred = []\n",
        "\n",
        "with torch.no_grad():\n",
        "    for images, labels in test_loader:\n",
        "        images, labels = images.to(device), labels.to(device)\n",
        "        outputs = best_model(images)\n",
        "        _, predicted = torch.max(outputs, 1)\n",
        "\n",
        "        test_correct += (predicted == labels).sum().item()\n",
        "        test_total += labels.size(0)\n",
        "\n",
        "        y_true.extend(labels.cpu().numpy())\n",
        "        y_pred.extend(predicted.cpu().numpy())\n",
        "\n",
        "test_acc = test_correct / test_total\n",
        "print(f\"best model test accuracy: {test_acc}\")"
      ]
    },
    {
      "cell_type": "markdown",
      "metadata": {
        "id": "RIY6j1yNe2yi"
      },
      "source": [
        "### Metrics visualization"
      ]
    },
    {
      "cell_type": "code",
      "execution_count": null,
      "metadata": {
        "colab": {
          "base_uri": "https://localhost:8080/"
        },
        "id": "502-9fpXFsIu",
        "outputId": "78e8782d-03b1-4102-c5df-e7f4a66ad1a4"
      },
      "outputs": [
        {
          "name": "stdout",
          "output_type": "stream",
          "text": [
            "Number of test race labels: 3068\n",
            "Sample entries: [('test_0606_aligned.jpg', np.str_('Latino')), ('test_1416_aligned.jpg', np.str_('White')), ('test_1161_aligned.jpg', np.str_('White')), ('test_1810_aligned.jpg', np.str_('Latino')), ('test_1811_aligned.jpg', np.str_('White'))]\n"
          ]
        }
      ],
      "source": [
        "import numpy as np\n",
        "# dependency on the first FairFace race annotation task\n",
        "race_labels_test = np.load('/content/raf_race_labels_test.npy', allow_pickle=True).item()\n",
        "print(\"Number of test race labels:\", len(race_labels_test))\n",
        "print(\"Sample entries:\", list(race_labels_test.items())[:5])"
      ]
    },
    {
      "cell_type": "markdown",
      "metadata": {
        "id": "z4TkfJ4XfVmI"
      },
      "source": [
        "#### Get proportion of race groups per emotion for context"
      ]
    },
    {
      "cell_type": "code",
      "execution_count": null,
      "metadata": {
        "colab": {
          "base_uri": "https://localhost:8080/"
        },
        "id": "DKavoNc5uThK",
        "outputId": "fb2b69d9-2d50-4608-a76b-c5cbdc3872a5"
      },
      "outputs": [
        {
          "name": "stdout",
          "output_type": "stream",
          "text": [
            "              Asian     Black    Latino  Middle_Eastern     White\n",
            "Neutral    0.048529  0.063235  0.213235        0.044118  0.630882\n",
            "Disgust    0.050000  0.056250  0.181250        0.100000  0.612500\n",
            "Happiness  0.037131  0.088608  0.167932        0.057384  0.648945\n",
            "Surprise   0.057751  0.048632  0.240122        0.048632  0.604863\n",
            "Sadness    0.035565  0.119247  0.207113        0.069038  0.569038\n",
            "Fear       0.013514  0.243243  0.189189        0.027027  0.527027\n",
            "Anger      0.080247  0.117284  0.203704        0.055556  0.543210\n",
            "          Asian  Black Latino Middle_Eastern  White\n",
            "Neutral    4.9%   6.3%  21.3%           4.4%  63.1%\n",
            "Disgust    5.0%   5.6%  18.1%          10.0%  61.3%\n",
            "Happiness  3.7%   8.9%  16.8%           5.7%  64.9%\n",
            "Surprise   5.8%   4.9%  24.0%           4.9%  60.5%\n",
            "Sadness    3.6%  11.9%  20.7%           6.9%  56.9%\n",
            "Fear       1.4%  24.3%  18.9%           2.7%  52.7%\n",
            "Anger      8.0%  11.7%  20.4%           5.6%  54.3%\n"
          ]
        },
        {
          "name": "stderr",
          "output_type": "stream",
          "text": [
            "<ipython-input-19-5421488ef068>:54: FutureWarning: DataFrame.applymap has been deprecated. Use DataFrame.map instead.\n",
            "  proportions_table_percentage = proportions_table.applymap(lambda x: f\"{x*100:.1f}%\")\n"
          ]
        }
      ],
      "source": [
        "emotion_index_to_label = {\n",
        "    '1': 'Surprise',\n",
        "    '2': 'Fear',\n",
        "    '3': 'Disgust',\n",
        "    '4': 'Happiness',\n",
        "    '5': 'Sadness',\n",
        "    '6': 'Anger',\n",
        "    '7': 'Neutral'\n",
        "}\n",
        "\n",
        "test_dir = '/content/raf-db/DATASET/test'\n",
        "\n",
        "# count samples per (emotion, race)\n",
        "emotion_race_counts = defaultdict(lambda: defaultdict(int))\n",
        "emotion_folders = os.listdir(test_dir) # raf-db is formatted as train/0/, train/1/, test/0/, etc.\n",
        "\n",
        "for emotion_folder in emotion_folders:\n",
        "    emotion_label = emotion_index_to_label.get(emotion_folder, 'Unknown')\n",
        "    emotion_folder_path = os.path.join(test_dir, emotion_folder)\n",
        "    images = os.listdir(emotion_folder_path)\n",
        "\n",
        "    for img_file in images:\n",
        "        race_label = race_labels_test.get(img_file)\n",
        "        if race_label:\n",
        "            emotion_race_counts[emotion_label][race_label] += 1\n",
        "\n",
        "# convert counts to a df\n",
        "race_categories = sorted({race for counts in emotion_race_counts.values() for race in counts})\n",
        "proportions_table = pd.DataFrame(columns=race_categories)\n",
        "\n",
        "for emotion, race_counts in emotion_race_counts.items():\n",
        "    total = sum(race_counts.values())\n",
        "    if total > 0:\n",
        "        proportions = {race: count / total for race, count in race_counts.items()}\n",
        "    else:\n",
        "        proportions = {race: 0 for race in race_categories}\n",
        "    proportions_table.loc[emotion] = [proportions.get(race, 0) for race in race_categories]\n",
        "\n",
        "print(proportions_table)\n",
        "\n",
        "# format as percentages - with some help from LLM\n",
        "proportions_table_percentage = proportions_table.applymap(lambda x: f\"{x*100:.1f}%\")\n",
        "print(proportions_table_percentage)"
      ]
    },
    {
      "cell_type": "markdown",
      "metadata": {
        "id": "lFp3S3k-fpo2"
      },
      "source": [
        "#### Get metrics from the optimized ResNet model per racial group"
      ]
    },
    {
      "cell_type": "code",
      "execution_count": null,
      "metadata": {
        "id": "a78jS36jN5N2"
      },
      "outputs": [],
      "source": [
        "# we can't index into the dataset without information about the filenames\n",
        "# since the .npy race label files map filenames to race label.\n",
        "class RAFDBTestDatasetWithFilenames(Dataset):\n",
        "    def __init__(self, root_dir, emotions, transform=None):\n",
        "        self.root_dir = root_dir\n",
        "        self.emotions = emotions\n",
        "        self.transform = transform\n",
        "\n",
        "        self.image_paths = []\n",
        "        self.labels = []\n",
        "        self.filenames = []\n",
        "\n",
        "        for emotion in emotions:\n",
        "            emotion_folder = os.path.join(root_dir, emotion)\n",
        "            for img_name in os.listdir(emotion_folder):\n",
        "                img_path = os.path.join(emotion_folder, img_name)\n",
        "\n",
        "                self.image_paths.append(img_path)\n",
        "                self.labels.append(int(emotion) - 1)\n",
        "                self.filenames.append(img_name)\n",
        "\n",
        "    def __len__(self):\n",
        "        return len(self.image_paths)\n",
        "\n",
        "    def __getitem__(self, idx):\n",
        "        img_path = self.image_paths[idx]\n",
        "        label = self.labels[idx]\n",
        "        filename = self.filenames[idx]\n",
        "\n",
        "        img = Image.open(img_path).convert(\"RGB\")\n",
        "        if self.transform:\n",
        "            img = self.transform(img)\n",
        "\n",
        "        return img, label, filename"
      ]
    },
    {
      "cell_type": "code",
      "execution_count": null,
      "metadata": {
        "id": "EKqk3NpYTUNv"
      },
      "outputs": [],
      "source": [
        "test_dir = 'raf-db/DATASET/test'\n",
        "test_emotions = sorted(os.listdir(test_dir), key=lambda x: int(x)) # make sure emotions are sorted in order 1-7 classes\n",
        "\n",
        "transform = transforms.Compose([\n",
        "    transforms.Resize((128, 128)),\n",
        "    transforms.ToTensor(),\n",
        "    transforms.Normalize(mean=[0.5, 0.5, 0.5], std=[0.5, 0.5, 0.5])\n",
        "])\n",
        "\n",
        "test_dataset = RAFDBTestDatasetWithFilenames(test_dir, test_emotions, transform=transform)\n",
        "test_loader = DataLoader(test_dataset, batch_size=32, shuffle=False)"
      ]
    },
    {
      "cell_type": "code",
      "execution_count": null,
      "metadata": {
        "id": "BiHm6JXiKwev"
      },
      "outputs": [],
      "source": [
        "from collections import defaultdict\n",
        "from sklearn.metrics import accuracy_score, classification_report\n",
        "\n",
        "device = torch.device(\"cuda\" if torch.cuda.is_available() else \"cpu\")\n",
        "best_model = ResNet(num_classes=7).to(device)\n",
        "best_model.load_state_dict(torch.load(\"best_resnet_0_001_sgd.pth\", map_location=device))\n",
        "best_model.eval()\n",
        "\n",
        "# Dictionaries to store predictions and ground truths grouped by race\n",
        "race_predictions = defaultdict(list)\n",
        "race_ground_truths = defaultdict(list)\n",
        "\n",
        "with torch.no_grad():\n",
        "    for images, emotion_labels, filenames in test_loader:\n",
        "        images = images.to(device)\n",
        "        emotion_labels = emotion_labels.to(device)\n",
        "        outputs = best_model(images)\n",
        "        _, predicted_emotions = torch.max(outputs, 1)\n",
        "\n",
        "        for idx in range(len(filenames)):\n",
        "            filename = filenames[idx]\n",
        "\n",
        "            # match race_labels_test keys\n",
        "            normalized_filename = filename\n",
        "            if not normalized_filename.endswith('_aligned.jpg'):\n",
        "                normalized_filename = normalized_filename.replace('.jpg', '_aligned.jpg')\n",
        "\n",
        "            race = race_labels_test.get(normalized_filename, \"Unknown\")\n",
        "            if race == \"Unknown\":\n",
        "                print(f\"race label missing for {normalized_filename}\")\n",
        "\n",
        "            race_predictions[race].append(predicted_emotions[idx].cpu().item())\n",
        "            race_ground_truths[race].append(emotion_labels[idx].cpu().item())\n",
        "\n",
        "emotion_classes = [\"surprise\", \"fear\", \"disgust\", \"happiness\", \"sadness\", \"anger\", \"neutral\"]\n",
        "labels_used = list(range(len(emotion_classes)))  # [0, 1, 2, 3, 4, 5, 6]"
      ]
    },
    {
      "cell_type": "code",
      "execution_count": null,
      "metadata": {
        "id": "i03neGFDGULt"
      },
      "outputs": [],
      "source": [
        "races = []\n",
        "accuracies = []\n",
        "standard_errors = []\n",
        "\n",
        "for race in race_predictions.keys():\n",
        "    y_true = race_ground_truths[race]\n",
        "    y_pred = race_predictions[race]\n",
        "\n",
        "    acc = accuracy_score(y_true, y_pred)\n",
        "\n",
        "    n_samples = len(y_true)\n",
        "    # error bars\n",
        "    se = np.sqrt(acc * (1 - acc) / n_samples)\n",
        "\n",
        "    races.append(race)\n",
        "    accuracies.append(acc)\n",
        "    standard_errors.append(se)\n",
        "\n",
        "    # got some help from LLM here for how to nicely format the output in a tabular format\n",
        "    # using classification_report.\n",
        "    print(f\"\\n=== Race: {race} ===\")\n",
        "    print(f\"Samples: {n_samples}\")\n",
        "    print(f\"Accuracy: {acc:.4f}\")\n",
        "    print(f\"Standard Error: {se:.4f}\")\n",
        "\n",
        "    # Generate classification report\n",
        "    report = classification_report(\n",
        "        y_true,\n",
        "        y_pred,\n",
        "        labels=labels_used,\n",
        "        target_names=emotion_classes,\n",
        "        zero_division=0\n",
        "    )\n",
        "    print(\"Classification Report:\")\n",
        "    print(report)\n",
        "    print(\"-\" * 50)\n",
        "\n",
        "plt.figure(figsize=(10, 6))\n",
        "plt.bar(races, accuracies, yerr=standard_errors, capsize=5, alpha=0.7)\n",
        "\n",
        "plt.xlabel(\"Race\")\n",
        "plt.ylabel(\"Accuracy\")\n",
        "plt.title(\"Accuracy per race\")\n",
        "plt.ylim(0, 1.0)\n",
        "plt.grid(axis='y', linestyle='--', alpha=0.7)\n",
        "\n",
        "plt.show()"
      ]
    }
  ],
  "metadata": {
    "accelerator": "GPU",
    "colab": {
      "gpuType": "T4",
      "provenance": []
    },
    "kernelspec": {
      "display_name": "Python 3",
      "name": "python3"
    },
    "language_info": {
      "name": "python"
    }
  },
  "nbformat": 4,
  "nbformat_minor": 0
}
